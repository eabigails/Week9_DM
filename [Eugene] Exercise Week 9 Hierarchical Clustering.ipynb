{
 "cells": [
  {
   "cell_type": "markdown",
   "metadata": {
    "id": "WwPdHlwOFBXS"
   },
   "source": [
    "## Exercise 2 : Clustering Method\n",
    "In this exercise we will explore how each clustering algorithm discussed in the class works."
   ]
  },
  {
   "cell_type": "markdown",
   "metadata": {
    "id": "7_llGj-cFj11"
   },
   "source": [
    "### Import Library"
   ]
  },
  {
   "cell_type": "markdown",
   "metadata": {
    "id": "Q93i8D5M3orJ"
   },
   "source": [
    "Import the necessary libraries"
   ]
  },
  {
   "cell_type": "code",
   "execution_count": 1,
   "metadata": {
    "colab": {
     "base_uri": "https://localhost:8080/"
    },
    "executionInfo": {
     "elapsed": 3277,
     "status": "ok",
     "timestamp": 1731496477855,
     "user": {
      "displayName": "Michelle Chandra",
      "userId": "11686912257500406197"
     },
     "user_tz": -420
    },
    "id": "InthM3ox1VA1",
    "outputId": "8777559d-98a3-4b32-c5f6-198e97f173e0"
   },
   "outputs": [],
   "source": [
    "from kneed import KneeLocator\n",
    "import numpy as np\n",
    "import pandas as pd\n",
    "import seaborn as sns\n",
    "from sklearn.preprocessing import LabelEncoder, StandardScaler\n",
    "from matplotlib import pyplot as plt\n",
    "import scipy.cluster.hierarchy as sch\n",
    "from sklearn.cluster import AgglomerativeClustering, KMeans\n",
    "from scipy.cluster.hierarchy import fcluster, linkage, dendrogram\n",
    "from sklearn.metrics import davies_bouldin_score, silhouette_score"
   ]
  },
  {
   "cell_type": "markdown",
   "metadata": {
    "id": "hJ_0lJcgFrHB"
   },
   "source": [
    "### Load Dataset\n",
    "The dataset that we will use is a **Property Dataset**. In this dataset there will be 11 features including: <br>\n",
    "- Area Category,\n",
    "- Luas Tanah (m2),\n",
    "- Luas Bangunan (m2),\n",
    "- Jumlah Kamar,\n",
    "- Jumlah Kamar Mandi,\n",
    "- Tingkat/Lantai,\n",
    "- Harga Penawaran (dari Owner),\n",
    "- Terjual/Belum,\n",
    "- Arah Hadap Rumah,\n",
    "- Posisi Rumah,\n",
    "- Lebar Jalan Depan Rumah (ROW). <br>\n",
    "\n",
    "You can get the dataset from **Elearn**"
   ]
  },
  {
   "cell_type": "markdown",
   "metadata": {
    "id": "5kQApGMa30nv"
   },
   "source": [
    "Load dataset"
   ]
  },
  {
   "cell_type": "code",
   "execution_count": 2,
   "metadata": {
    "colab": {
     "base_uri": "https://localhost:8080/",
     "height": 310
    },
    "executionInfo": {
     "elapsed": 6,
     "status": "ok",
     "timestamp": 1731496477855,
     "user": {
      "displayName": "Michelle Chandra",
      "userId": "11686912257500406197"
     },
     "user_tz": -420
    },
    "id": "RSXKxZMJ32tQ",
    "outputId": "453a7529-eadd-48f3-d1d3-db13a09a4d0f"
   },
   "outputs": [
    {
     "data": {
      "text/html": [
       "<div>\n",
       "<style scoped>\n",
       "    .dataframe tbody tr th:only-of-type {\n",
       "        vertical-align: middle;\n",
       "    }\n",
       "\n",
       "    .dataframe tbody tr th {\n",
       "        vertical-align: top;\n",
       "    }\n",
       "\n",
       "    .dataframe thead th {\n",
       "        text-align: right;\n",
       "    }\n",
       "</style>\n",
       "<table border=\"1\" class=\"dataframe\">\n",
       "  <thead>\n",
       "    <tr style=\"text-align: right;\">\n",
       "      <th></th>\n",
       "      <th>Area Category</th>\n",
       "      <th>Nama Daerah</th>\n",
       "      <th>Luas Tanah (m2)</th>\n",
       "      <th>Luas Bangunan (m2)</th>\n",
       "      <th>Jumlah Kamar</th>\n",
       "      <th>Jumlah Kamar Mandi</th>\n",
       "      <th>Tingkat/Lantai</th>\n",
       "      <th>Harga Penawaran (dari Owner)</th>\n",
       "      <th>Terjual/Belum</th>\n",
       "      <th>Arah Hadap Rumah</th>\n",
       "      <th>Posisi Rumah</th>\n",
       "      <th>Lebar Jalan Depan Rumah (ROW)</th>\n",
       "    </tr>\n",
       "  </thead>\n",
       "  <tbody>\n",
       "    <tr>\n",
       "      <th>0</th>\n",
       "      <td>NaN</td>\n",
       "      <td>NaN</td>\n",
       "      <td>NaN</td>\n",
       "      <td>NaN</td>\n",
       "      <td>NaN</td>\n",
       "      <td>NaN</td>\n",
       "      <td>NaN</td>\n",
       "      <td>NaN</td>\n",
       "      <td>NaN</td>\n",
       "      <td>NaN</td>\n",
       "      <td>NaN</td>\n",
       "      <td>NaN</td>\n",
       "    </tr>\n",
       "    <tr>\n",
       "      <th>1</th>\n",
       "      <td>Below Standard</td>\n",
       "      <td>Setro Baru Utara</td>\n",
       "      <td>30.0</td>\n",
       "      <td>60.0</td>\n",
       "      <td>2.0</td>\n",
       "      <td>1.0</td>\n",
       "      <td>2.0</td>\n",
       "      <td>287799000</td>\n",
       "      <td>Belum</td>\n",
       "      <td>NaN</td>\n",
       "      <td>Standard</td>\n",
       "      <td>&lt; 1 Mobil</td>\n",
       "    </tr>\n",
       "    <tr>\n",
       "      <th>2</th>\n",
       "      <td>Standard</td>\n",
       "      <td>Kenjeran</td>\n",
       "      <td>170.0</td>\n",
       "      <td>170.0</td>\n",
       "      <td>5.0</td>\n",
       "      <td>4.0</td>\n",
       "      <td>2.0</td>\n",
       "      <td>2699999999</td>\n",
       "      <td>Belum</td>\n",
       "      <td>Selatan</td>\n",
       "      <td>Cul De Sac/Ujung Gang Buntu</td>\n",
       "      <td>1-2 Mobil</td>\n",
       "    </tr>\n",
       "    <tr>\n",
       "      <th>3</th>\n",
       "      <td>Sangat Premium</td>\n",
       "      <td>Kenjeran</td>\n",
       "      <td>187.0</td>\n",
       "      <td>250.0</td>\n",
       "      <td>5.0</td>\n",
       "      <td>5.0</td>\n",
       "      <td>2.0</td>\n",
       "      <td>3100000000</td>\n",
       "      <td>Belum</td>\n",
       "      <td>Utara</td>\n",
       "      <td>Standard</td>\n",
       "      <td>1-2 Mobil</td>\n",
       "    </tr>\n",
       "    <tr>\n",
       "      <th>4</th>\n",
       "      <td>Premium</td>\n",
       "      <td>Kenjeran</td>\n",
       "      <td>350.0</td>\n",
       "      <td>600.0</td>\n",
       "      <td>5.0</td>\n",
       "      <td>5.0</td>\n",
       "      <td>2.0</td>\n",
       "      <td>5000000000</td>\n",
       "      <td>Belum</td>\n",
       "      <td>Barat</td>\n",
       "      <td>Standard</td>\n",
       "      <td>1-2 Mobil</td>\n",
       "    </tr>\n",
       "  </tbody>\n",
       "</table>\n",
       "</div>"
      ],
      "text/plain": [
       "    Area Category       Nama Daerah  Luas Tanah (m2)  Luas Bangunan (m2)  \\\n",
       "0             NaN               NaN              NaN                 NaN   \n",
       "1  Below Standard  Setro Baru Utara             30.0                60.0   \n",
       "2        Standard          Kenjeran            170.0               170.0   \n",
       "3  Sangat Premium          Kenjeran            187.0               250.0   \n",
       "4         Premium          Kenjeran            350.0               600.0   \n",
       "\n",
       "   Jumlah Kamar  Jumlah Kamar Mandi  Tingkat/Lantai   \\\n",
       "0           NaN                 NaN              NaN   \n",
       "1           2.0                 1.0              2.0   \n",
       "2           5.0                 4.0              2.0   \n",
       "3           5.0                 5.0              2.0   \n",
       "4           5.0                 5.0              2.0   \n",
       "\n",
       "  Harga Penawaran (dari Owner) Terjual/Belum Arah Hadap Rumah  \\\n",
       "0                          NaN           NaN              NaN   \n",
       "1                    287799000         Belum              NaN   \n",
       "2                   2699999999         Belum          Selatan   \n",
       "3                   3100000000         Belum            Utara   \n",
       "4                   5000000000         Belum            Barat   \n",
       "\n",
       "                  Posisi Rumah Lebar Jalan Depan Rumah (ROW)  \n",
       "0                          NaN                           NaN  \n",
       "1                     Standard                     < 1 Mobil  \n",
       "2  Cul De Sac/Ujung Gang Buntu                     1-2 Mobil  \n",
       "3                     Standard                     1-2 Mobil  \n",
       "4                     Standard                     1-2 Mobil  "
      ]
     },
     "execution_count": 2,
     "metadata": {},
     "output_type": "execute_result"
    }
   ],
   "source": [
    "url = \"https://raw.githubusercontent.com/eabigails/Week9_DM/refs/heads/main/property_dataset.csv\"\n",
    "df = pd.read_csv(url)\n",
    "df.head()"
   ]
  },
  {
   "cell_type": "code",
   "execution_count": 3,
   "metadata": {
    "colab": {
     "base_uri": "https://localhost:8080/",
     "height": 300
    },
    "executionInfo": {
     "elapsed": 561,
     "status": "ok",
     "timestamp": 1731496550939,
     "user": {
      "displayName": "Michelle Chandra",
      "userId": "11686912257500406197"
     },
     "user_tz": -420
    },
    "id": "REIB_55O6dWa",
    "outputId": "847788e1-2922-4caf-a253-0c89650891c9"
   },
   "outputs": [
    {
     "data": {
      "text/html": [
       "<div>\n",
       "<style scoped>\n",
       "    .dataframe tbody tr th:only-of-type {\n",
       "        vertical-align: middle;\n",
       "    }\n",
       "\n",
       "    .dataframe tbody tr th {\n",
       "        vertical-align: top;\n",
       "    }\n",
       "\n",
       "    .dataframe thead th {\n",
       "        text-align: right;\n",
       "    }\n",
       "</style>\n",
       "<table border=\"1\" class=\"dataframe\">\n",
       "  <thead>\n",
       "    <tr style=\"text-align: right;\">\n",
       "      <th></th>\n",
       "      <th>Luas Tanah (m2)</th>\n",
       "      <th>Luas Bangunan (m2)</th>\n",
       "      <th>Jumlah Kamar</th>\n",
       "      <th>Jumlah Kamar Mandi</th>\n",
       "      <th>Tingkat/Lantai</th>\n",
       "    </tr>\n",
       "  </thead>\n",
       "  <tbody>\n",
       "    <tr>\n",
       "      <th>count</th>\n",
       "      <td>307.000000</td>\n",
       "      <td>307.000000</td>\n",
       "      <td>307.000000</td>\n",
       "      <td>306.000000</td>\n",
       "      <td>306.000000</td>\n",
       "    </tr>\n",
       "    <tr>\n",
       "      <th>mean</th>\n",
       "      <td>226.908795</td>\n",
       "      <td>266.579805</td>\n",
       "      <td>4.276873</td>\n",
       "      <td>3.339869</td>\n",
       "      <td>1.856209</td>\n",
       "    </tr>\n",
       "    <tr>\n",
       "      <th>std</th>\n",
       "      <td>202.149571</td>\n",
       "      <td>213.501196</td>\n",
       "      <td>1.646412</td>\n",
       "      <td>1.632311</td>\n",
       "      <td>0.512702</td>\n",
       "    </tr>\n",
       "    <tr>\n",
       "      <th>min</th>\n",
       "      <td>14.000000</td>\n",
       "      <td>14.000000</td>\n",
       "      <td>1.000000</td>\n",
       "      <td>1.000000</td>\n",
       "      <td>1.000000</td>\n",
       "    </tr>\n",
       "    <tr>\n",
       "      <th>25%</th>\n",
       "      <td>96.000000</td>\n",
       "      <td>120.000000</td>\n",
       "      <td>3.000000</td>\n",
       "      <td>2.000000</td>\n",
       "      <td>2.000000</td>\n",
       "    </tr>\n",
       "    <tr>\n",
       "      <th>50%</th>\n",
       "      <td>162.000000</td>\n",
       "      <td>200.000000</td>\n",
       "      <td>4.000000</td>\n",
       "      <td>3.000000</td>\n",
       "      <td>2.000000</td>\n",
       "    </tr>\n",
       "    <tr>\n",
       "      <th>75%</th>\n",
       "      <td>286.000000</td>\n",
       "      <td>332.500000</td>\n",
       "      <td>5.000000</td>\n",
       "      <td>4.000000</td>\n",
       "      <td>2.000000</td>\n",
       "    </tr>\n",
       "    <tr>\n",
       "      <th>max</th>\n",
       "      <td>1561.000000</td>\n",
       "      <td>1200.000000</td>\n",
       "      <td>13.000000</td>\n",
       "      <td>13.000000</td>\n",
       "      <td>4.000000</td>\n",
       "    </tr>\n",
       "  </tbody>\n",
       "</table>\n",
       "</div>"
      ],
      "text/plain": [
       "       Luas Tanah (m2)  Luas Bangunan (m2)  Jumlah Kamar  Jumlah Kamar Mandi  \\\n",
       "count       307.000000          307.000000    307.000000          306.000000   \n",
       "mean        226.908795          266.579805      4.276873            3.339869   \n",
       "std         202.149571          213.501196      1.646412            1.632311   \n",
       "min          14.000000           14.000000      1.000000            1.000000   \n",
       "25%          96.000000          120.000000      3.000000            2.000000   \n",
       "50%         162.000000          200.000000      4.000000            3.000000   \n",
       "75%         286.000000          332.500000      5.000000            4.000000   \n",
       "max        1561.000000         1200.000000     13.000000           13.000000   \n",
       "\n",
       "       Tingkat/Lantai   \n",
       "count       306.000000  \n",
       "mean          1.856209  \n",
       "std           0.512702  \n",
       "min           1.000000  \n",
       "25%           2.000000  \n",
       "50%           2.000000  \n",
       "75%           2.000000  \n",
       "max           4.000000  "
      ]
     },
     "execution_count": 3,
     "metadata": {},
     "output_type": "execute_result"
    }
   ],
   "source": [
    "df.describe()"
   ]
  },
  {
   "cell_type": "code",
   "execution_count": 4,
   "metadata": {
    "colab": {
     "base_uri": "https://localhost:8080/"
    },
    "executionInfo": {
     "elapsed": 2,
     "status": "ok",
     "timestamp": 1731496551311,
     "user": {
      "displayName": "Michelle Chandra",
      "userId": "11686912257500406197"
     },
     "user_tz": -420
    },
    "id": "4qGn83IJAK1V",
    "outputId": "77bc5ddc-fe65-4de6-fa5f-e96556ee37fe"
   },
   "outputs": [
    {
     "name": "stdout",
     "output_type": "stream",
     "text": [
      "<class 'pandas.core.frame.DataFrame'>\n",
      "RangeIndex: 308 entries, 0 to 307\n",
      "Data columns (total 12 columns):\n",
      " #   Column                         Non-Null Count  Dtype  \n",
      "---  ------                         --------------  -----  \n",
      " 0   Area Category                  307 non-null    object \n",
      " 1   Nama Daerah                    307 non-null    object \n",
      " 2   Luas Tanah (m2)                307 non-null    float64\n",
      " 3   Luas Bangunan (m2)             307 non-null    float64\n",
      " 4   Jumlah Kamar                   307 non-null    float64\n",
      " 5   Jumlah Kamar Mandi             306 non-null    float64\n",
      " 6   Tingkat/Lantai                 306 non-null    float64\n",
      " 7   Harga Penawaran (dari Owner)   307 non-null    object \n",
      " 8   Terjual/Belum                  307 non-null    object \n",
      " 9   Arah Hadap Rumah               225 non-null    object \n",
      " 10  Posisi Rumah                   192 non-null    object \n",
      " 11  Lebar Jalan Depan Rumah (ROW)  266 non-null    object \n",
      "dtypes: float64(5), object(7)\n",
      "memory usage: 29.0+ KB\n"
     ]
    }
   ],
   "source": [
    "df.info()"
   ]
  },
  {
   "cell_type": "markdown",
   "metadata": {
    "id": "wLpmamec9jig"
   },
   "source": [
    "Data Preparation\n",
    "\n",
    "1. Check if there are any missing values in the data.\n",
    "2. Check the percentage of null values.\n",
    "3. Perform label encoding.\n",
    "4. Apply feature scaling to the data."
   ]
  },
  {
   "cell_type": "markdown",
   "metadata": {
    "id": "Q4p9ra1JRDdn"
   },
   "source": [
    "1."
   ]
  },
  {
   "cell_type": "code",
   "execution_count": 5,
   "metadata": {
    "colab": {
     "base_uri": "https://localhost:8080/",
     "height": 460
    },
    "executionInfo": {
     "elapsed": 4,
     "status": "ok",
     "timestamp": 1731496552406,
     "user": {
      "displayName": "Michelle Chandra",
      "userId": "11686912257500406197"
     },
     "user_tz": -420
    },
    "id": "fAfk6XsgLeVl",
    "outputId": "59b49d65-89fe-411a-ca9e-1d0f0b5b8962"
   },
   "outputs": [
    {
     "data": {
      "text/plain": [
       "Area Category                      1\n",
       "Nama Daerah                        1\n",
       "Luas Tanah (m2)                    1\n",
       "Luas Bangunan (m2)                 1\n",
       "Jumlah Kamar                       1\n",
       "Jumlah Kamar Mandi                 2\n",
       "Tingkat/Lantai                     2\n",
       "Harga Penawaran (dari Owner)       1\n",
       "Terjual/Belum                      1\n",
       "Arah Hadap Rumah                  83\n",
       "Posisi Rumah                     116\n",
       "Lebar Jalan Depan Rumah (ROW)     42\n",
       "dtype: int64"
      ]
     },
     "execution_count": 5,
     "metadata": {},
     "output_type": "execute_result"
    }
   ],
   "source": [
    "df.isnull().sum()"
   ]
  },
  {
   "cell_type": "markdown",
   "metadata": {
    "id": "TML3jiamRF_U"
   },
   "source": [
    "2."
   ]
  },
  {
   "cell_type": "code",
   "execution_count": 6,
   "metadata": {
    "colab": {
     "base_uri": "https://localhost:8080/",
     "height": 460
    },
    "executionInfo": {
     "elapsed": 342,
     "status": "ok",
     "timestamp": 1731496554246,
     "user": {
      "displayName": "Michelle Chandra",
      "userId": "11686912257500406197"
     },
     "user_tz": -420
    },
    "id": "pRvFgzknOwNZ",
    "outputId": "3424eb8d-36fe-44ad-84c6-82763ee078e6"
   },
   "outputs": [
    {
     "data": {
      "text/plain": [
       "Area Category                     0.324675\n",
       "Nama Daerah                       0.324675\n",
       "Luas Tanah (m2)                   0.324675\n",
       "Luas Bangunan (m2)                0.324675\n",
       "Jumlah Kamar                      0.324675\n",
       "Jumlah Kamar Mandi                0.649351\n",
       "Tingkat/Lantai                    0.649351\n",
       "Harga Penawaran (dari Owner)      0.324675\n",
       "Terjual/Belum                     0.324675\n",
       "Arah Hadap Rumah                 26.948052\n",
       "Posisi Rumah                     37.662338\n",
       "Lebar Jalan Depan Rumah (ROW)    13.636364\n",
       "dtype: float64"
      ]
     },
     "execution_count": 6,
     "metadata": {},
     "output_type": "execute_result"
    }
   ],
   "source": [
    "null_percentage = df.isnull().mean() * 100\n",
    "null_percentage"
   ]
  },
  {
   "cell_type": "markdown",
   "metadata": {
    "id": "-KzjgP9fAzBk"
   },
   "source": [
    "Since there are too many nulls but not up to 50%, it’s better to fill them in using SimpleImputer with the strategy set to 'most_frequent'"
   ]
  },
  {
   "cell_type": "code",
   "execution_count": 7,
   "metadata": {
    "colab": {
     "base_uri": "https://localhost:8080/",
     "height": 310
    },
    "executionInfo": {
     "elapsed": 444,
     "status": "ok",
     "timestamp": 1731496630814,
     "user": {
      "displayName": "Michelle Chandra",
      "userId": "11686912257500406197"
     },
     "user_tz": -420
    },
    "id": "pG9CYi3C7Iq9",
    "outputId": "79f3c6d9-380b-47a1-f55b-100240986af1"
   },
   "outputs": [
    {
     "data": {
      "text/html": [
       "<div>\n",
       "<style scoped>\n",
       "    .dataframe tbody tr th:only-of-type {\n",
       "        vertical-align: middle;\n",
       "    }\n",
       "\n",
       "    .dataframe tbody tr th {\n",
       "        vertical-align: top;\n",
       "    }\n",
       "\n",
       "    .dataframe thead th {\n",
       "        text-align: right;\n",
       "    }\n",
       "</style>\n",
       "<table border=\"1\" class=\"dataframe\">\n",
       "  <thead>\n",
       "    <tr style=\"text-align: right;\">\n",
       "      <th></th>\n",
       "      <th>Area Category</th>\n",
       "      <th>Nama Daerah</th>\n",
       "      <th>Luas Tanah (m2)</th>\n",
       "      <th>Luas Bangunan (m2)</th>\n",
       "      <th>Jumlah Kamar</th>\n",
       "      <th>Jumlah Kamar Mandi</th>\n",
       "      <th>Tingkat/Lantai</th>\n",
       "      <th>Harga Penawaran (dari Owner)</th>\n",
       "      <th>Terjual/Belum</th>\n",
       "      <th>Arah Hadap Rumah</th>\n",
       "      <th>Posisi Rumah</th>\n",
       "      <th>Lebar Jalan Depan Rumah (ROW)</th>\n",
       "    </tr>\n",
       "  </thead>\n",
       "  <tbody>\n",
       "    <tr>\n",
       "      <th>0</th>\n",
       "      <td>Standard</td>\n",
       "      <td>Citraland</td>\n",
       "      <td>240.0</td>\n",
       "      <td>300.0</td>\n",
       "      <td>4.0</td>\n",
       "      <td>3.0</td>\n",
       "      <td>2.0</td>\n",
       "      <td>3500000000</td>\n",
       "      <td>Belum</td>\n",
       "      <td>Utara</td>\n",
       "      <td>Standard</td>\n",
       "      <td>1-2 Mobil</td>\n",
       "    </tr>\n",
       "    <tr>\n",
       "      <th>1</th>\n",
       "      <td>Below Standard</td>\n",
       "      <td>Setro Baru Utara</td>\n",
       "      <td>30.0</td>\n",
       "      <td>60.0</td>\n",
       "      <td>2.0</td>\n",
       "      <td>1.0</td>\n",
       "      <td>2.0</td>\n",
       "      <td>287799000</td>\n",
       "      <td>Belum</td>\n",
       "      <td>Utara</td>\n",
       "      <td>Standard</td>\n",
       "      <td>&lt; 1 Mobil</td>\n",
       "    </tr>\n",
       "    <tr>\n",
       "      <th>2</th>\n",
       "      <td>Standard</td>\n",
       "      <td>Kenjeran</td>\n",
       "      <td>170.0</td>\n",
       "      <td>170.0</td>\n",
       "      <td>5.0</td>\n",
       "      <td>4.0</td>\n",
       "      <td>2.0</td>\n",
       "      <td>2699999999</td>\n",
       "      <td>Belum</td>\n",
       "      <td>Selatan</td>\n",
       "      <td>Cul De Sac/Ujung Gang Buntu</td>\n",
       "      <td>1-2 Mobil</td>\n",
       "    </tr>\n",
       "    <tr>\n",
       "      <th>3</th>\n",
       "      <td>Sangat Premium</td>\n",
       "      <td>Kenjeran</td>\n",
       "      <td>187.0</td>\n",
       "      <td>250.0</td>\n",
       "      <td>5.0</td>\n",
       "      <td>5.0</td>\n",
       "      <td>2.0</td>\n",
       "      <td>3100000000</td>\n",
       "      <td>Belum</td>\n",
       "      <td>Utara</td>\n",
       "      <td>Standard</td>\n",
       "      <td>1-2 Mobil</td>\n",
       "    </tr>\n",
       "    <tr>\n",
       "      <th>4</th>\n",
       "      <td>Premium</td>\n",
       "      <td>Kenjeran</td>\n",
       "      <td>350.0</td>\n",
       "      <td>600.0</td>\n",
       "      <td>5.0</td>\n",
       "      <td>5.0</td>\n",
       "      <td>2.0</td>\n",
       "      <td>5000000000</td>\n",
       "      <td>Belum</td>\n",
       "      <td>Barat</td>\n",
       "      <td>Standard</td>\n",
       "      <td>1-2 Mobil</td>\n",
       "    </tr>\n",
       "  </tbody>\n",
       "</table>\n",
       "</div>"
      ],
      "text/plain": [
       "    Area Category       Nama Daerah Luas Tanah (m2) Luas Bangunan (m2)  \\\n",
       "0        Standard         Citraland           240.0              300.0   \n",
       "1  Below Standard  Setro Baru Utara            30.0               60.0   \n",
       "2        Standard          Kenjeran           170.0              170.0   \n",
       "3  Sangat Premium          Kenjeran           187.0              250.0   \n",
       "4         Premium          Kenjeran           350.0              600.0   \n",
       "\n",
       "  Jumlah Kamar Jumlah Kamar Mandi Tingkat/Lantai   \\\n",
       "0          4.0                3.0             2.0   \n",
       "1          2.0                1.0             2.0   \n",
       "2          5.0                4.0             2.0   \n",
       "3          5.0                5.0             2.0   \n",
       "4          5.0                5.0             2.0   \n",
       "\n",
       "  Harga Penawaran (dari Owner) Terjual/Belum Arah Hadap Rumah  \\\n",
       "0                   3500000000         Belum            Utara   \n",
       "1                    287799000         Belum            Utara   \n",
       "2                   2699999999         Belum          Selatan   \n",
       "3                   3100000000         Belum            Utara   \n",
       "4                   5000000000         Belum            Barat   \n",
       "\n",
       "                  Posisi Rumah Lebar Jalan Depan Rumah (ROW)  \n",
       "0                     Standard                     1-2 Mobil  \n",
       "1                     Standard                     < 1 Mobil  \n",
       "2  Cul De Sac/Ujung Gang Buntu                     1-2 Mobil  \n",
       "3                     Standard                     1-2 Mobil  \n",
       "4                     Standard                     1-2 Mobil  "
      ]
     },
     "execution_count": 7,
     "metadata": {},
     "output_type": "execute_result"
    }
   ],
   "source": [
    "from sklearn.impute import SimpleImputer\n",
    "imputer = SimpleImputer(strategy='most_frequent')\n",
    "df= pd.DataFrame(imputer.fit_transform(df), columns=df.columns)\n",
    "\n",
    "df.head()"
   ]
  },
  {
   "cell_type": "code",
   "execution_count": 8,
   "metadata": {
    "colab": {
     "base_uri": "https://localhost:8080/",
     "height": 460
    },
    "executionInfo": {
     "elapsed": 351,
     "status": "ok",
     "timestamp": 1731496641490,
     "user": {
      "displayName": "Michelle Chandra",
      "userId": "11686912257500406197"
     },
     "user_tz": -420
    },
    "id": "P39tcuz77l4m",
    "outputId": "5e315972-a4ed-4ab6-c112-fb498b129b04"
   },
   "outputs": [
    {
     "data": {
      "text/plain": [
       "Area Category                    0\n",
       "Nama Daerah                      0\n",
       "Luas Tanah (m2)                  0\n",
       "Luas Bangunan (m2)               0\n",
       "Jumlah Kamar                     0\n",
       "Jumlah Kamar Mandi               0\n",
       "Tingkat/Lantai                   0\n",
       "Harga Penawaran (dari Owner)     0\n",
       "Terjual/Belum                    0\n",
       "Arah Hadap Rumah                 0\n",
       "Posisi Rumah                     0\n",
       "Lebar Jalan Depan Rumah (ROW)    0\n",
       "dtype: int64"
      ]
     },
     "execution_count": 8,
     "metadata": {},
     "output_type": "execute_result"
    }
   ],
   "source": [
    "df.isnull().sum()"
   ]
  },
  {
   "cell_type": "markdown",
   "metadata": {
    "id": "bX3c5v9bCx67"
   },
   "source": [
    "Drop the column 'Nama Daerah' because all the values are different."
   ]
  },
  {
   "cell_type": "code",
   "execution_count": 9,
   "metadata": {
    "colab": {
     "base_uri": "https://localhost:8080/",
     "height": 293
    },
    "executionInfo": {
     "elapsed": 360,
     "status": "ok",
     "timestamp": 1731496652788,
     "user": {
      "displayName": "Michelle Chandra",
      "userId": "11686912257500406197"
     },
     "user_tz": -420
    },
    "id": "XBrU-DGYCkND",
    "outputId": "a5cb08a9-baa0-4524-aa0d-e24045ac43db"
   },
   "outputs": [
    {
     "data": {
      "text/html": [
       "<div>\n",
       "<style scoped>\n",
       "    .dataframe tbody tr th:only-of-type {\n",
       "        vertical-align: middle;\n",
       "    }\n",
       "\n",
       "    .dataframe tbody tr th {\n",
       "        vertical-align: top;\n",
       "    }\n",
       "\n",
       "    .dataframe thead th {\n",
       "        text-align: right;\n",
       "    }\n",
       "</style>\n",
       "<table border=\"1\" class=\"dataframe\">\n",
       "  <thead>\n",
       "    <tr style=\"text-align: right;\">\n",
       "      <th></th>\n",
       "      <th>Area Category</th>\n",
       "      <th>Luas Tanah (m2)</th>\n",
       "      <th>Luas Bangunan (m2)</th>\n",
       "      <th>Jumlah Kamar</th>\n",
       "      <th>Jumlah Kamar Mandi</th>\n",
       "      <th>Tingkat/Lantai</th>\n",
       "      <th>Harga Penawaran (dari Owner)</th>\n",
       "      <th>Terjual/Belum</th>\n",
       "      <th>Arah Hadap Rumah</th>\n",
       "      <th>Posisi Rumah</th>\n",
       "      <th>Lebar Jalan Depan Rumah (ROW)</th>\n",
       "    </tr>\n",
       "  </thead>\n",
       "  <tbody>\n",
       "    <tr>\n",
       "      <th>0</th>\n",
       "      <td>Standard</td>\n",
       "      <td>240.0</td>\n",
       "      <td>300.0</td>\n",
       "      <td>4.0</td>\n",
       "      <td>3.0</td>\n",
       "      <td>2.0</td>\n",
       "      <td>3500000000</td>\n",
       "      <td>Belum</td>\n",
       "      <td>Utara</td>\n",
       "      <td>Standard</td>\n",
       "      <td>1-2 Mobil</td>\n",
       "    </tr>\n",
       "    <tr>\n",
       "      <th>1</th>\n",
       "      <td>Below Standard</td>\n",
       "      <td>30.0</td>\n",
       "      <td>60.0</td>\n",
       "      <td>2.0</td>\n",
       "      <td>1.0</td>\n",
       "      <td>2.0</td>\n",
       "      <td>287799000</td>\n",
       "      <td>Belum</td>\n",
       "      <td>Utara</td>\n",
       "      <td>Standard</td>\n",
       "      <td>&lt; 1 Mobil</td>\n",
       "    </tr>\n",
       "    <tr>\n",
       "      <th>2</th>\n",
       "      <td>Standard</td>\n",
       "      <td>170.0</td>\n",
       "      <td>170.0</td>\n",
       "      <td>5.0</td>\n",
       "      <td>4.0</td>\n",
       "      <td>2.0</td>\n",
       "      <td>2699999999</td>\n",
       "      <td>Belum</td>\n",
       "      <td>Selatan</td>\n",
       "      <td>Cul De Sac/Ujung Gang Buntu</td>\n",
       "      <td>1-2 Mobil</td>\n",
       "    </tr>\n",
       "    <tr>\n",
       "      <th>3</th>\n",
       "      <td>Sangat Premium</td>\n",
       "      <td>187.0</td>\n",
       "      <td>250.0</td>\n",
       "      <td>5.0</td>\n",
       "      <td>5.0</td>\n",
       "      <td>2.0</td>\n",
       "      <td>3100000000</td>\n",
       "      <td>Belum</td>\n",
       "      <td>Utara</td>\n",
       "      <td>Standard</td>\n",
       "      <td>1-2 Mobil</td>\n",
       "    </tr>\n",
       "    <tr>\n",
       "      <th>4</th>\n",
       "      <td>Premium</td>\n",
       "      <td>350.0</td>\n",
       "      <td>600.0</td>\n",
       "      <td>5.0</td>\n",
       "      <td>5.0</td>\n",
       "      <td>2.0</td>\n",
       "      <td>5000000000</td>\n",
       "      <td>Belum</td>\n",
       "      <td>Barat</td>\n",
       "      <td>Standard</td>\n",
       "      <td>1-2 Mobil</td>\n",
       "    </tr>\n",
       "  </tbody>\n",
       "</table>\n",
       "</div>"
      ],
      "text/plain": [
       "    Area Category Luas Tanah (m2) Luas Bangunan (m2) Jumlah Kamar  \\\n",
       "0        Standard           240.0              300.0          4.0   \n",
       "1  Below Standard            30.0               60.0          2.0   \n",
       "2        Standard           170.0              170.0          5.0   \n",
       "3  Sangat Premium           187.0              250.0          5.0   \n",
       "4         Premium           350.0              600.0          5.0   \n",
       "\n",
       "  Jumlah Kamar Mandi Tingkat/Lantai  Harga Penawaran (dari Owner)  \\\n",
       "0                3.0             2.0                   3500000000   \n",
       "1                1.0             2.0                    287799000   \n",
       "2                4.0             2.0                   2699999999   \n",
       "3                5.0             2.0                   3100000000   \n",
       "4                5.0             2.0                   5000000000   \n",
       "\n",
       "  Terjual/Belum Arah Hadap Rumah                 Posisi Rumah  \\\n",
       "0         Belum            Utara                     Standard   \n",
       "1         Belum            Utara                     Standard   \n",
       "2         Belum          Selatan  Cul De Sac/Ujung Gang Buntu   \n",
       "3         Belum            Utara                     Standard   \n",
       "4         Belum            Barat                     Standard   \n",
       "\n",
       "  Lebar Jalan Depan Rumah (ROW)  \n",
       "0                     1-2 Mobil  \n",
       "1                     < 1 Mobil  \n",
       "2                     1-2 Mobil  \n",
       "3                     1-2 Mobil  \n",
       "4                     1-2 Mobil  "
      ]
     },
     "execution_count": 9,
     "metadata": {},
     "output_type": "execute_result"
    }
   ],
   "source": [
    "df = df.drop(columns=['Nama Daerah'])\n",
    "df.head()"
   ]
  },
  {
   "cell_type": "markdown",
   "metadata": {
    "id": "2oKqWt9qRLrF"
   },
   "source": [
    "3."
   ]
  },
  {
   "cell_type": "code",
   "execution_count": 10,
   "metadata": {
    "colab": {
     "base_uri": "https://localhost:8080/",
     "height": 241
    },
    "executionInfo": {
     "elapsed": 10,
     "status": "ok",
     "timestamp": 1731494945920,
     "user": {
      "displayName": "Michelle Chandra",
      "userId": "11686912257500406197"
     },
     "user_tz": -420
    },
    "id": "Nmk3tKEP7qXn",
    "outputId": "e136ad2d-b6cb-40fb-f187-3e1f0982edf0"
   },
   "outputs": [
    {
     "data": {
      "text/html": [
       "<div>\n",
       "<style scoped>\n",
       "    .dataframe tbody tr th:only-of-type {\n",
       "        vertical-align: middle;\n",
       "    }\n",
       "\n",
       "    .dataframe tbody tr th {\n",
       "        vertical-align: top;\n",
       "    }\n",
       "\n",
       "    .dataframe thead th {\n",
       "        text-align: right;\n",
       "    }\n",
       "</style>\n",
       "<table border=\"1\" class=\"dataframe\">\n",
       "  <thead>\n",
       "    <tr style=\"text-align: right;\">\n",
       "      <th></th>\n",
       "      <th>Area Category</th>\n",
       "      <th>Luas Tanah (m2)</th>\n",
       "      <th>Luas Bangunan (m2)</th>\n",
       "      <th>Jumlah Kamar</th>\n",
       "      <th>Jumlah Kamar Mandi</th>\n",
       "      <th>Tingkat/Lantai</th>\n",
       "      <th>Harga Penawaran (dari Owner)</th>\n",
       "      <th>Terjual/Belum</th>\n",
       "      <th>Arah Hadap Rumah</th>\n",
       "      <th>Posisi Rumah</th>\n",
       "      <th>Lebar Jalan Depan Rumah (ROW)</th>\n",
       "    </tr>\n",
       "  </thead>\n",
       "  <tbody>\n",
       "    <tr>\n",
       "      <th>0</th>\n",
       "      <td>3</td>\n",
       "      <td>240.0</td>\n",
       "      <td>300.0</td>\n",
       "      <td>4.0</td>\n",
       "      <td>3.0</td>\n",
       "      <td>2.0</td>\n",
       "      <td>3500000000</td>\n",
       "      <td>1</td>\n",
       "      <td>3</td>\n",
       "      <td>2</td>\n",
       "      <td>2</td>\n",
       "    </tr>\n",
       "    <tr>\n",
       "      <th>1</th>\n",
       "      <td>4</td>\n",
       "      <td>30.0</td>\n",
       "      <td>60.0</td>\n",
       "      <td>2.0</td>\n",
       "      <td>1.0</td>\n",
       "      <td>2.0</td>\n",
       "      <td>287799000</td>\n",
       "      <td>1</td>\n",
       "      <td>3</td>\n",
       "      <td>2</td>\n",
       "      <td>1</td>\n",
       "    </tr>\n",
       "    <tr>\n",
       "      <th>2</th>\n",
       "      <td>3</td>\n",
       "      <td>170.0</td>\n",
       "      <td>170.0</td>\n",
       "      <td>5.0</td>\n",
       "      <td>4.0</td>\n",
       "      <td>2.0</td>\n",
       "      <td>2699999999</td>\n",
       "      <td>1</td>\n",
       "      <td>1</td>\n",
       "      <td>0</td>\n",
       "      <td>2</td>\n",
       "    </tr>\n",
       "    <tr>\n",
       "      <th>3</th>\n",
       "      <td>1</td>\n",
       "      <td>187.0</td>\n",
       "      <td>250.0</td>\n",
       "      <td>5.0</td>\n",
       "      <td>5.0</td>\n",
       "      <td>2.0</td>\n",
       "      <td>3100000000</td>\n",
       "      <td>1</td>\n",
       "      <td>3</td>\n",
       "      <td>2</td>\n",
       "      <td>2</td>\n",
       "    </tr>\n",
       "    <tr>\n",
       "      <th>4</th>\n",
       "      <td>2</td>\n",
       "      <td>350.0</td>\n",
       "      <td>600.0</td>\n",
       "      <td>5.0</td>\n",
       "      <td>5.0</td>\n",
       "      <td>2.0</td>\n",
       "      <td>5000000000</td>\n",
       "      <td>1</td>\n",
       "      <td>0</td>\n",
       "      <td>2</td>\n",
       "      <td>2</td>\n",
       "    </tr>\n",
       "  </tbody>\n",
       "</table>\n",
       "</div>"
      ],
      "text/plain": [
       "   Area Category Luas Tanah (m2) Luas Bangunan (m2) Jumlah Kamar  \\\n",
       "0              3           240.0              300.0          4.0   \n",
       "1              4            30.0               60.0          2.0   \n",
       "2              3           170.0              170.0          5.0   \n",
       "3              1           187.0              250.0          5.0   \n",
       "4              2           350.0              600.0          5.0   \n",
       "\n",
       "  Jumlah Kamar Mandi Tingkat/Lantai  Harga Penawaran (dari Owner)  \\\n",
       "0                3.0             2.0                   3500000000   \n",
       "1                1.0             2.0                    287799000   \n",
       "2                4.0             2.0                   2699999999   \n",
       "3                5.0             2.0                   3100000000   \n",
       "4                5.0             2.0                   5000000000   \n",
       "\n",
       "   Terjual/Belum  Arah Hadap Rumah  Posisi Rumah  \\\n",
       "0              1                 3             2   \n",
       "1              1                 3             2   \n",
       "2              1                 1             0   \n",
       "3              1                 3             2   \n",
       "4              1                 0             2   \n",
       "\n",
       "   Lebar Jalan Depan Rumah (ROW)  \n",
       "0                              2  \n",
       "1                              1  \n",
       "2                              2  \n",
       "3                              2  \n",
       "4                              2  "
      ]
     },
     "execution_count": 10,
     "metadata": {},
     "output_type": "execute_result"
    }
   ],
   "source": [
    "le = LabelEncoder()\n",
    "df['Arah Hadap Rumah'] = le.fit_transform(df['Arah Hadap Rumah'])\n",
    "df['Posisi Rumah'] = le.fit_transform(df['Posisi Rumah'])\n",
    "\n",
    "df['Terjual/Belum'] = df['Terjual/Belum'].map({'Terjual': 0, 'Belum': 1})\n",
    "df['Area Category'] = df['Area Category'].map({'Sangat Premium': 1, 'Premium': 2, 'Standard': 3, 'Below Standard': 4})\n",
    "df['Lebar Jalan Depan Rumah (ROW)'] = df['Lebar Jalan Depan Rumah (ROW)'].map({'< 1 Mobil': 1, '1-2 Mobil': 2, '> 2 Mobil': 3})\n",
    "df.head()"
   ]
  },
  {
   "cell_type": "markdown",
   "metadata": {
    "id": "NnwN15T_rk-x"
   },
   "source": [
    "To replace incorrect or invalid data in the column \"Harga Penawaran (dari Owner)\", do the following:\n",
    "\n",
    "Replace empty values (\" \") with \"10500000000\".\n",
    "\n",
    "Replace values with commas like \"10.500.000.000,00\" with \"10500000000\"."
   ]
  },
  {
   "cell_type": "code",
   "execution_count": 11,
   "metadata": {
    "id": "Zie7cOwvbkIm"
   },
   "outputs": [
    {
     "name": "stdout",
     "output_type": "stream",
     "text": [
      "0    3500000000\n",
      "1     287799000\n",
      "2    2699999999\n",
      "3    3100000000\n",
      "4    5000000000\n",
      "Name: Harga Penawaran (dari Owner), dtype: object\n"
     ]
    }
   ],
   "source": [
    "df['Harga Penawaran (dari Owner)'].replace(\" \", \"10500000000\", inplace=True)\n",
    "\n",
    "# Step 2: Replace values formatted with commas and periods\n",
    "# This will replace values like \"10.500.000.000,00\" with \"10500000000\"\n",
    "df['Harga Penawaran (dari Owner)'] = df['Harga Penawaran (dari Owner)'].str.replace('.', '', regex=False)  # Remove dots\n",
    "df['Harga Penawaran (dari Owner)'] = df['Harga Penawaran (dari Owner)'].str.replace(',', '', regex=False)  # Remove commas\n",
    "\n",
    "# Display the cleaned column to verify changes\n",
    "print(df['Harga Penawaran (dari Owner)'].head())"
   ]
  },
  {
   "cell_type": "markdown",
   "metadata": {
    "id": "ZYcSwNYQrfF3"
   },
   "source": [
    "check the data type"
   ]
  },
  {
   "cell_type": "code",
   "execution_count": 12,
   "metadata": {
    "colab": {
     "base_uri": "https://localhost:8080/"
    },
    "executionInfo": {
     "elapsed": 9,
     "status": "ok",
     "timestamp": 1731494945920,
     "user": {
      "displayName": "Michelle Chandra",
      "userId": "11686912257500406197"
     },
     "user_tz": -420
    },
    "id": "tenlxUxBLdWR",
    "outputId": "fc7f1008-ad75-4ca9-906a-1e8d36f5e240"
   },
   "outputs": [
    {
     "name": "stdout",
     "output_type": "stream",
     "text": [
      "<class 'pandas.core.frame.DataFrame'>\n",
      "RangeIndex: 308 entries, 0 to 307\n",
      "Data columns (total 11 columns):\n",
      " #   Column                         Non-Null Count  Dtype \n",
      "---  ------                         --------------  ----- \n",
      " 0   Area Category                  308 non-null    int64 \n",
      " 1   Luas Tanah (m2)                308 non-null    object\n",
      " 2   Luas Bangunan (m2)             308 non-null    object\n",
      " 3   Jumlah Kamar                   308 non-null    object\n",
      " 4   Jumlah Kamar Mandi             308 non-null    object\n",
      " 5   Tingkat/Lantai                 308 non-null    object\n",
      " 6   Harga Penawaran (dari Owner)   308 non-null    object\n",
      " 7   Terjual/Belum                  308 non-null    int64 \n",
      " 8   Arah Hadap Rumah               308 non-null    int32 \n",
      " 9   Posisi Rumah                   308 non-null    int32 \n",
      " 10  Lebar Jalan Depan Rumah (ROW)  308 non-null    int64 \n",
      "dtypes: int32(2), int64(3), object(6)\n",
      "memory usage: 24.2+ KB\n"
     ]
    }
   ],
   "source": [
    "df.info()"
   ]
  },
  {
   "cell_type": "markdown",
   "metadata": {
    "id": "t6lZHF2PLXGo"
   },
   "source": [
    "Change the data types from:\n",
    "\n",
    "- float to int\n",
    "- object to int"
   ]
  },
  {
   "cell_type": "code",
   "execution_count": 13,
   "metadata": {
    "id": "tePlKVUaLE8k"
   },
   "outputs": [],
   "source": [
    "# Convert object columns to int64\n",
    "object_columns = df.select_dtypes(include=['object']).columns\n",
    "for col in object_columns:\n",
    "    # Convert to integer if possible\n",
    "    df[col] = pd.to_numeric(df[col], errors='coerce').astype('int64')\n",
    "\n",
    "# Convert existing int32 columns to int64\n",
    "int32_columns = df.select_dtypes(include=['int32']).columns\n",
    "for col in int32_columns:\n",
    "    df[col] = df[col].astype('int64')\n",
    "\n",
    "# Convert a specific column to int64\n",
    "df['Harga Penawaran (dari Owner)'] = pd.to_numeric(df['Harga Penawaran (dari Owner)'], errors='coerce').astype('int64')\n"
   ]
  },
  {
   "cell_type": "code",
   "execution_count": 14,
   "metadata": {
    "colab": {
     "base_uri": "https://localhost:8080/"
    },
    "executionInfo": {
     "elapsed": 7,
     "status": "ok",
     "timestamp": 1731494945920,
     "user": {
      "displayName": "Michelle Chandra",
      "userId": "11686912257500406197"
     },
     "user_tz": -420
    },
    "id": "PdRtvMT3bEnJ",
    "outputId": "2ffc8204-e315-42e2-fdad-ba6f4101fce0"
   },
   "outputs": [
    {
     "name": "stdout",
     "output_type": "stream",
     "text": [
      "<class 'pandas.core.frame.DataFrame'>\n",
      "RangeIndex: 308 entries, 0 to 307\n",
      "Data columns (total 11 columns):\n",
      " #   Column                         Non-Null Count  Dtype\n",
      "---  ------                         --------------  -----\n",
      " 0   Area Category                  308 non-null    int64\n",
      " 1   Luas Tanah (m2)                308 non-null    int64\n",
      " 2   Luas Bangunan (m2)             308 non-null    int64\n",
      " 3   Jumlah Kamar                   308 non-null    int64\n",
      " 4   Jumlah Kamar Mandi             308 non-null    int64\n",
      " 5   Tingkat/Lantai                 308 non-null    int64\n",
      " 6   Harga Penawaran (dari Owner)   308 non-null    int64\n",
      " 7   Terjual/Belum                  308 non-null    int64\n",
      " 8   Arah Hadap Rumah               308 non-null    int64\n",
      " 9   Posisi Rumah                   308 non-null    int64\n",
      " 10  Lebar Jalan Depan Rumah (ROW)  308 non-null    int64\n",
      "dtypes: int64(11)\n",
      "memory usage: 26.6 KB\n"
     ]
    }
   ],
   "source": [
    "df.info()"
   ]
  },
  {
   "cell_type": "markdown",
   "metadata": {
    "id": "_qQtlqnzRARK"
   },
   "source": [
    "4."
   ]
  },
  {
   "cell_type": "code",
   "execution_count": 15,
   "metadata": {
    "colab": {
     "base_uri": "https://localhost:8080/",
     "height": 241
    },
    "executionInfo": {
     "elapsed": 359,
     "status": "ok",
     "timestamp": 1731494946273,
     "user": {
      "displayName": "Michelle Chandra",
      "userId": "11686912257500406197"
     },
     "user_tz": -420
    },
    "id": "_EOGmQfi8XKS",
    "outputId": "7a5f9565-742c-461a-f1f6-e0d6b361b048"
   },
   "outputs": [
    {
     "data": {
      "text/html": [
       "<div>\n",
       "<style scoped>\n",
       "    .dataframe tbody tr th:only-of-type {\n",
       "        vertical-align: middle;\n",
       "    }\n",
       "\n",
       "    .dataframe tbody tr th {\n",
       "        vertical-align: top;\n",
       "    }\n",
       "\n",
       "    .dataframe thead th {\n",
       "        text-align: right;\n",
       "    }\n",
       "</style>\n",
       "<table border=\"1\" class=\"dataframe\">\n",
       "  <thead>\n",
       "    <tr style=\"text-align: right;\">\n",
       "      <th></th>\n",
       "      <th>Area Category</th>\n",
       "      <th>Luas Tanah (m2)</th>\n",
       "      <th>Luas Bangunan (m2)</th>\n",
       "      <th>Jumlah Kamar</th>\n",
       "      <th>Jumlah Kamar Mandi</th>\n",
       "      <th>Tingkat/Lantai</th>\n",
       "      <th>Harga Penawaran (dari Owner)</th>\n",
       "      <th>Terjual/Belum</th>\n",
       "      <th>Arah Hadap Rumah</th>\n",
       "      <th>Posisi Rumah</th>\n",
       "      <th>Lebar Jalan Depan Rumah (ROW)</th>\n",
       "    </tr>\n",
       "  </thead>\n",
       "  <tbody>\n",
       "    <tr>\n",
       "      <th>0</th>\n",
       "      <td>0.494434</td>\n",
       "      <td>0.064760</td>\n",
       "      <td>0.156529</td>\n",
       "      <td>-0.168161</td>\n",
       "      <td>-0.207847</td>\n",
       "      <td>0.313723</td>\n",
       "      <td>-0.182491</td>\n",
       "      <td>0.0</td>\n",
       "      <td>0.839497</td>\n",
       "      <td>-0.188069</td>\n",
       "      <td>-0.598758</td>\n",
       "    </tr>\n",
       "    <tr>\n",
       "      <th>1</th>\n",
       "      <td>1.742677</td>\n",
       "      <td>-0.977457</td>\n",
       "      <td>-0.971209</td>\n",
       "      <td>-1.386831</td>\n",
       "      <td>-1.438941</td>\n",
       "      <td>0.313723</td>\n",
       "      <td>-0.569600</td>\n",
       "      <td>0.0</td>\n",
       "      <td>0.839497</td>\n",
       "      <td>-0.188069</td>\n",
       "      <td>-2.406773</td>\n",
       "    </tr>\n",
       "    <tr>\n",
       "      <th>2</th>\n",
       "      <td>0.494434</td>\n",
       "      <td>-0.282646</td>\n",
       "      <td>-0.454330</td>\n",
       "      <td>0.441174</td>\n",
       "      <td>0.407700</td>\n",
       "      <td>0.313723</td>\n",
       "      <td>-0.278901</td>\n",
       "      <td>0.0</td>\n",
       "      <td>-1.141845</td>\n",
       "      <td>-5.453988</td>\n",
       "      <td>-0.598758</td>\n",
       "    </tr>\n",
       "    <tr>\n",
       "      <th>3</th>\n",
       "      <td>-2.002052</td>\n",
       "      <td>-0.198276</td>\n",
       "      <td>-0.078417</td>\n",
       "      <td>0.441174</td>\n",
       "      <td>1.023247</td>\n",
       "      <td>0.313723</td>\n",
       "      <td>-0.230696</td>\n",
       "      <td>0.0</td>\n",
       "      <td>0.839497</td>\n",
       "      <td>-0.188069</td>\n",
       "      <td>-0.598758</td>\n",
       "    </tr>\n",
       "    <tr>\n",
       "      <th>4</th>\n",
       "      <td>-0.753809</td>\n",
       "      <td>0.610683</td>\n",
       "      <td>1.566201</td>\n",
       "      <td>0.441174</td>\n",
       "      <td>1.023247</td>\n",
       "      <td>0.313723</td>\n",
       "      <td>-0.001723</td>\n",
       "      <td>0.0</td>\n",
       "      <td>-2.132516</td>\n",
       "      <td>-0.188069</td>\n",
       "      <td>-0.598758</td>\n",
       "    </tr>\n",
       "  </tbody>\n",
       "</table>\n",
       "</div>"
      ],
      "text/plain": [
       "   Area Category  Luas Tanah (m2)  Luas Bangunan (m2)  Jumlah Kamar  \\\n",
       "0       0.494434         0.064760            0.156529     -0.168161   \n",
       "1       1.742677        -0.977457           -0.971209     -1.386831   \n",
       "2       0.494434        -0.282646           -0.454330      0.441174   \n",
       "3      -2.002052        -0.198276           -0.078417      0.441174   \n",
       "4      -0.753809         0.610683            1.566201      0.441174   \n",
       "\n",
       "   Jumlah Kamar Mandi  Tingkat/Lantai   Harga Penawaran (dari Owner)  \\\n",
       "0           -0.207847         0.313723                     -0.182491   \n",
       "1           -1.438941         0.313723                     -0.569600   \n",
       "2            0.407700         0.313723                     -0.278901   \n",
       "3            1.023247         0.313723                     -0.230696   \n",
       "4            1.023247         0.313723                     -0.001723   \n",
       "\n",
       "   Terjual/Belum  Arah Hadap Rumah  Posisi Rumah  \\\n",
       "0            0.0          0.839497     -0.188069   \n",
       "1            0.0          0.839497     -0.188069   \n",
       "2            0.0         -1.141845     -5.453988   \n",
       "3            0.0          0.839497     -0.188069   \n",
       "4            0.0         -2.132516     -0.188069   \n",
       "\n",
       "   Lebar Jalan Depan Rumah (ROW)  \n",
       "0                      -0.598758  \n",
       "1                      -2.406773  \n",
       "2                      -0.598758  \n",
       "3                      -0.598758  \n",
       "4                      -0.598758  "
      ]
     },
     "execution_count": 15,
     "metadata": {},
     "output_type": "execute_result"
    }
   ],
   "source": [
    "from sklearn.preprocessing import StandardScaler\n",
    "sc = StandardScaler()\n",
    "df1 = pd.DataFrame(sc.fit_transform(df), columns=[\"Area Category\", \"Luas Tanah (m2)\",\"Luas Bangunan (m2)\",\"Jumlah Kamar\",\"Jumlah Kamar Mandi\",\"Tingkat/Lantai \",\"Harga Penawaran (dari Owner)\",\"Terjual/Belum\",\"Arah Hadap Rumah\",\"Posisi Rumah\",\"Lebar Jalan Depan Rumah (ROW)\"])\n",
    "df1.head()"
   ]
  },
  {
   "cell_type": "markdown",
   "metadata": {
    "id": "ZPx1qmFr3ouX"
   },
   "source": [
    "## K-Means Clustering"
   ]
  },
  {
   "cell_type": "markdown",
   "metadata": {
    "id": "BAHb1xo_A3m5"
   },
   "source": [
    "Using the elbow method, determine the number of clusters to be formed.\n",
    "\n",
    "Use the elbow range range(1, 11)"
   ]
  },
  {
   "cell_type": "code",
   "execution_count": 16,
   "metadata": {
    "id": "d1PAPly31946"
   },
   "outputs": [
    {
     "name": "stderr",
     "output_type": "stream",
     "text": [
      "c:\\Users\\yulia\\anaconda3\\Lib\\site-packages\\sklearn\\cluster\\_kmeans.py:1412: FutureWarning: The default value of `n_init` will change from 10 to 'auto' in 1.4. Set the value of `n_init` explicitly to suppress the warning\n",
      "  super()._check_params_vs_input(X, default_n_init=10)\n",
      "c:\\Users\\yulia\\anaconda3\\Lib\\site-packages\\sklearn\\cluster\\_kmeans.py:1436: UserWarning: KMeans is known to have a memory leak on Windows with MKL, when there are less chunks than available threads. You can avoid it by setting the environment variable OMP_NUM_THREADS=2.\n",
      "  warnings.warn(\n",
      "c:\\Users\\yulia\\anaconda3\\Lib\\site-packages\\sklearn\\cluster\\_kmeans.py:1412: FutureWarning: The default value of `n_init` will change from 10 to 'auto' in 1.4. Set the value of `n_init` explicitly to suppress the warning\n",
      "  super()._check_params_vs_input(X, default_n_init=10)\n",
      "c:\\Users\\yulia\\anaconda3\\Lib\\site-packages\\sklearn\\cluster\\_kmeans.py:1436: UserWarning: KMeans is known to have a memory leak on Windows with MKL, when there are less chunks than available threads. You can avoid it by setting the environment variable OMP_NUM_THREADS=2.\n",
      "  warnings.warn(\n",
      "c:\\Users\\yulia\\anaconda3\\Lib\\site-packages\\sklearn\\cluster\\_kmeans.py:1412: FutureWarning: The default value of `n_init` will change from 10 to 'auto' in 1.4. Set the value of `n_init` explicitly to suppress the warning\n",
      "  super()._check_params_vs_input(X, default_n_init=10)\n",
      "c:\\Users\\yulia\\anaconda3\\Lib\\site-packages\\sklearn\\cluster\\_kmeans.py:1436: UserWarning: KMeans is known to have a memory leak on Windows with MKL, when there are less chunks than available threads. You can avoid it by setting the environment variable OMP_NUM_THREADS=2.\n",
      "  warnings.warn(\n",
      "c:\\Users\\yulia\\anaconda3\\Lib\\site-packages\\sklearn\\cluster\\_kmeans.py:1412: FutureWarning: The default value of `n_init` will change from 10 to 'auto' in 1.4. Set the value of `n_init` explicitly to suppress the warning\n",
      "  super()._check_params_vs_input(X, default_n_init=10)\n",
      "c:\\Users\\yulia\\anaconda3\\Lib\\site-packages\\sklearn\\cluster\\_kmeans.py:1436: UserWarning: KMeans is known to have a memory leak on Windows with MKL, when there are less chunks than available threads. You can avoid it by setting the environment variable OMP_NUM_THREADS=2.\n",
      "  warnings.warn(\n",
      "c:\\Users\\yulia\\anaconda3\\Lib\\site-packages\\sklearn\\cluster\\_kmeans.py:1412: FutureWarning: The default value of `n_init` will change from 10 to 'auto' in 1.4. Set the value of `n_init` explicitly to suppress the warning\n",
      "  super()._check_params_vs_input(X, default_n_init=10)\n",
      "c:\\Users\\yulia\\anaconda3\\Lib\\site-packages\\sklearn\\cluster\\_kmeans.py:1436: UserWarning: KMeans is known to have a memory leak on Windows with MKL, when there are less chunks than available threads. You can avoid it by setting the environment variable OMP_NUM_THREADS=2.\n",
      "  warnings.warn(\n",
      "c:\\Users\\yulia\\anaconda3\\Lib\\site-packages\\sklearn\\cluster\\_kmeans.py:1412: FutureWarning: The default value of `n_init` will change from 10 to 'auto' in 1.4. Set the value of `n_init` explicitly to suppress the warning\n",
      "  super()._check_params_vs_input(X, default_n_init=10)\n",
      "c:\\Users\\yulia\\anaconda3\\Lib\\site-packages\\sklearn\\cluster\\_kmeans.py:1436: UserWarning: KMeans is known to have a memory leak on Windows with MKL, when there are less chunks than available threads. You can avoid it by setting the environment variable OMP_NUM_THREADS=2.\n",
      "  warnings.warn(\n",
      "c:\\Users\\yulia\\anaconda3\\Lib\\site-packages\\sklearn\\cluster\\_kmeans.py:1412: FutureWarning: The default value of `n_init` will change from 10 to 'auto' in 1.4. Set the value of `n_init` explicitly to suppress the warning\n",
      "  super()._check_params_vs_input(X, default_n_init=10)\n",
      "c:\\Users\\yulia\\anaconda3\\Lib\\site-packages\\sklearn\\cluster\\_kmeans.py:1436: UserWarning: KMeans is known to have a memory leak on Windows with MKL, when there are less chunks than available threads. You can avoid it by setting the environment variable OMP_NUM_THREADS=2.\n",
      "  warnings.warn(\n",
      "c:\\Users\\yulia\\anaconda3\\Lib\\site-packages\\sklearn\\cluster\\_kmeans.py:1412: FutureWarning: The default value of `n_init` will change from 10 to 'auto' in 1.4. Set the value of `n_init` explicitly to suppress the warning\n",
      "  super()._check_params_vs_input(X, default_n_init=10)\n",
      "c:\\Users\\yulia\\anaconda3\\Lib\\site-packages\\sklearn\\cluster\\_kmeans.py:1436: UserWarning: KMeans is known to have a memory leak on Windows with MKL, when there are less chunks than available threads. You can avoid it by setting the environment variable OMP_NUM_THREADS=2.\n",
      "  warnings.warn(\n",
      "c:\\Users\\yulia\\anaconda3\\Lib\\site-packages\\sklearn\\cluster\\_kmeans.py:1412: FutureWarning: The default value of `n_init` will change from 10 to 'auto' in 1.4. Set the value of `n_init` explicitly to suppress the warning\n",
      "  super()._check_params_vs_input(X, default_n_init=10)\n",
      "c:\\Users\\yulia\\anaconda3\\Lib\\site-packages\\sklearn\\cluster\\_kmeans.py:1436: UserWarning: KMeans is known to have a memory leak on Windows with MKL, when there are less chunks than available threads. You can avoid it by setting the environment variable OMP_NUM_THREADS=2.\n",
      "  warnings.warn(\n",
      "c:\\Users\\yulia\\anaconda3\\Lib\\site-packages\\sklearn\\cluster\\_kmeans.py:1412: FutureWarning: The default value of `n_init` will change from 10 to 'auto' in 1.4. Set the value of `n_init` explicitly to suppress the warning\n",
      "  super()._check_params_vs_input(X, default_n_init=10)\n",
      "c:\\Users\\yulia\\anaconda3\\Lib\\site-packages\\sklearn\\cluster\\_kmeans.py:1436: UserWarning: KMeans is known to have a memory leak on Windows with MKL, when there are less chunks than available threads. You can avoid it by setting the environment variable OMP_NUM_THREADS=2.\n",
      "  warnings.warn(\n"
     ]
    }
   ],
   "source": [
    "# set the parameter for evaluating K\n",
    "from sklearn.cluster import KMeans\n",
    "\n",
    "sse=[]\n",
    "# check the inertia for each K\n",
    "for i in range(1, 11):\n",
    "    kmeans = KMeans(n_clusters=i, init='random', max_iter=300, random_state=42)\n",
    "    kmeans.fit(df1)\n",
    "    sse.append(kmeans.inertia_)"
   ]
  },
  {
   "cell_type": "code",
   "execution_count": 17,
   "metadata": {
    "colab": {
     "base_uri": "https://localhost:8080/",
     "height": 449
    },
    "executionInfo": {
     "elapsed": 406,
     "status": "ok",
     "timestamp": 1731494947125,
     "user": {
      "displayName": "Michelle Chandra",
      "userId": "11686912257500406197"
     },
     "user_tz": -420
    },
    "id": "HFLEIVEI-J8n",
    "outputId": "3f7fc0d3-9e16-471b-e662-0180436d1d87"
   },
   "outputs": [
    {
     "data": {
      "image/png": "[encoded data removed]",
      "text/plain": [
       "<Figure size 640x480 with 1 Axes>"
      ]
     },
     "metadata": {},
     "output_type": "display_data"
    }
   ],
   "source": [
    "plt.plot(range(1, 11), sse)\n",
    "plt.xlabel('Number of clusters')\n",
    "plt.ylabel('SSE')\n",
    "plt.show()"
   ]
  },
  {
   "cell_type": "code",
   "execution_count": 18,
   "metadata": {
    "colab": {
     "base_uri": "https://localhost:8080/"
    },
    "executionInfo": {
     "elapsed": 8,
     "status": "ok",
     "timestamp": 1731494947126,
     "user": {
      "displayName": "Michelle Chandra",
      "userId": "11686912257500406197"
     },
     "user_tz": -420
    },
    "id": "r4777AaK-Mlw",
    "outputId": "f06389c6-496b-4499-b84f-83870222b994"
   },
   "outputs": [
    {
     "name": "stdout",
     "output_type": "stream",
     "text": [
      "The best k for you model is 3\n"
     ]
    }
   ],
   "source": [
    "# using kneelocator to find the elbow/knee\n",
    "from kneed import KneeLocator\n",
    "kneedle = KneeLocator(range(1,11), sse, curve=\"convex\", direction=\"decreasing\")\n",
    "best_k = kneedle.elbow\n",
    "print(\"The best k for you model is\", best_k)"
   ]
  },
  {
   "cell_type": "markdown",
   "metadata": {
    "id": "riWXo9djBIkj"
   },
   "source": [
    "Train the K-Means model on the dataset with the number of clusters you have determined."
   ]
  },
  {
   "cell_type": "code",
   "execution_count": 19,
   "metadata": {
    "id": "mvT6Yql2BNMl"
   },
   "outputs": [
    {
     "name": "stderr",
     "output_type": "stream",
     "text": [
      "c:\\Users\\yulia\\anaconda3\\Lib\\site-packages\\sklearn\\cluster\\_kmeans.py:1412: FutureWarning: The default value of `n_init` will change from 10 to 'auto' in 1.4. Set the value of `n_init` explicitly to suppress the warning\n",
      "  super()._check_params_vs_input(X, default_n_init=10)\n",
      "c:\\Users\\yulia\\anaconda3\\Lib\\site-packages\\sklearn\\cluster\\_kmeans.py:1436: UserWarning: KMeans is known to have a memory leak on Windows with MKL, when there are less chunks than available threads. You can avoid it by setting the environment variable OMP_NUM_THREADS=2.\n",
      "  warnings.warn(\n"
     ]
    }
   ],
   "source": [
    "# assign cluster with K-Means algorithm\n",
    "kmeans = KMeans(n_clusters=best_k, init='random', max_iter=300, random_state=42)\n",
    "y_pred = kmeans.fit_predict(df1)\n",
    "y_pred\n",
    "# Add the cluster labels to the original data\n",
    "df['Cluster'] = y_pred"
   ]
  },
  {
   "cell_type": "markdown",
   "metadata": {
    "id": "DySLxlWqBNyH"
   },
   "source": [
    "Display the cluster summary in the form of a dataframe:\n",
    "\n",
    "1. For categorical columns: mode (use pd.Series.mode to find the mode; you do not need to use \" \" for this attribute).\n",
    "2. For continuous columns: mean.\n",
    "3. Cluster results: count."
   ]
  },
  {
   "cell_type": "code",
   "execution_count": 20,
   "metadata": {
    "colab": {
     "base_uri": "https://localhost:8080/",
     "height": 175
    },
    "executionInfo": {
     "elapsed": 6,
     "status": "ok",
     "timestamp": 1731494947126,
     "user": {
      "displayName": "Michelle Chandra",
      "userId": "11686912257500406197"
     },
     "user_tz": -420
    },
    "id": "y8VI0UjsIjz4",
    "outputId": "d0012175-8ac9-4fa6-9c6d-ebd96162a194"
   },
   "outputs": [
    {
     "data": {
      "text/html": [
       "<div>\n",
       "<style scoped>\n",
       "    .dataframe tbody tr th:only-of-type {\n",
       "        vertical-align: middle;\n",
       "    }\n",
       "\n",
       "    .dataframe tbody tr th {\n",
       "        vertical-align: top;\n",
       "    }\n",
       "\n",
       "    .dataframe thead th {\n",
       "        text-align: right;\n",
       "    }\n",
       "</style>\n",
       "<table border=\"1\" class=\"dataframe\">\n",
       "  <thead>\n",
       "    <tr style=\"text-align: right;\">\n",
       "      <th></th>\n",
       "      <th>Area Category</th>\n",
       "      <th>Terjual/Belum</th>\n",
       "      <th>Arah Hadap Rumah</th>\n",
       "      <th>Posisi Rumah</th>\n",
       "      <th>Lebar Jalan Depan Rumah (ROW)</th>\n",
       "    </tr>\n",
       "    <tr>\n",
       "      <th>KMeans</th>\n",
       "      <th></th>\n",
       "      <th></th>\n",
       "      <th></th>\n",
       "      <th></th>\n",
       "      <th></th>\n",
       "    </tr>\n",
       "  </thead>\n",
       "  <tbody>\n",
       "    <tr>\n",
       "      <th>0</th>\n",
       "      <td>2</td>\n",
       "      <td>1</td>\n",
       "      <td>3</td>\n",
       "      <td>2</td>\n",
       "      <td>2</td>\n",
       "    </tr>\n",
       "    <tr>\n",
       "      <th>1</th>\n",
       "      <td>1</td>\n",
       "      <td>1</td>\n",
       "      <td>3</td>\n",
       "      <td>2</td>\n",
       "      <td>3</td>\n",
       "    </tr>\n",
       "    <tr>\n",
       "      <th>2</th>\n",
       "      <td>3</td>\n",
       "      <td>1</td>\n",
       "      <td>3</td>\n",
       "      <td>2</td>\n",
       "      <td>2</td>\n",
       "    </tr>\n",
       "  </tbody>\n",
       "</table>\n",
       "</div>"
      ],
      "text/plain": [
       "        Area Category  Terjual/Belum  Arah Hadap Rumah  Posisi Rumah  \\\n",
       "KMeans                                                                 \n",
       "0                   2              1                 3             2   \n",
       "1                   1              1                 3             2   \n",
       "2                   3              1                 3             2   \n",
       "\n",
       "        Lebar Jalan Depan Rumah (ROW)  \n",
       "KMeans                                 \n",
       "0                                   2  \n",
       "1                                   3  \n",
       "2                                   2  "
      ]
     },
     "execution_count": 20,
     "metadata": {},
     "output_type": "execute_result"
    }
   ],
   "source": [
    "cluster_summary = df.groupby(y_pred)[['Area Category', 'Terjual/Belum', 'Arah Hadap Rumah', \n",
    "                                              'Posisi Rumah', 'Lebar Jalan Depan Rumah (ROW)']].agg(pd.Series.mode)\n",
    "\n",
    "\n",
    "# Rename the index for better readability\n",
    "cluster_summary = cluster_summary.rename_axis('KMeans')\n",
    "\n",
    "# Display the result\n",
    "cluster_summary"
   ]
  },
  {
   "cell_type": "code",
   "execution_count": 21,
   "metadata": {},
   "outputs": [
    {
     "name": "stderr",
     "output_type": "stream",
     "text": [
      "C:\\Users\\yulia\\AppData\\Local\\Temp\\ipykernel_10564\\2886233327.py:1: FutureWarning: Indexing with multiple keys (implicitly converted to a tuple of keys) will be deprecated, use a list instead.\n",
      "  df.groupby(y_pred)[\"Luas Tanah (m2)\", \"Luas Bangunan (m2)\", \"Jumlah Kamar\", \"Jumlah Kamar Mandi\", \"Tingkat/Lantai \" , \"Harga Penawaran (dari Owner)\"].agg(pd.Series.mean)\n"
     ]
    },
    {
     "data": {
      "text/html": [
       "<div>\n",
       "<style scoped>\n",
       "    .dataframe tbody tr th:only-of-type {\n",
       "        vertical-align: middle;\n",
       "    }\n",
       "\n",
       "    .dataframe tbody tr th {\n",
       "        vertical-align: top;\n",
       "    }\n",
       "\n",
       "    .dataframe thead th {\n",
       "        text-align: right;\n",
       "    }\n",
       "</style>\n",
       "<table border=\"1\" class=\"dataframe\">\n",
       "  <thead>\n",
       "    <tr style=\"text-align: right;\">\n",
       "      <th></th>\n",
       "      <th>Luas Tanah (m2)</th>\n",
       "      <th>Luas Bangunan (m2)</th>\n",
       "      <th>Jumlah Kamar</th>\n",
       "      <th>Jumlah Kamar Mandi</th>\n",
       "      <th>Tingkat/Lantai</th>\n",
       "      <th>Harga Penawaran (dari Owner)</th>\n",
       "    </tr>\n",
       "  </thead>\n",
       "  <tbody>\n",
       "    <tr>\n",
       "      <th>0</th>\n",
       "      <td>187.378205</td>\n",
       "      <td>243.814103</td>\n",
       "      <td>4.634615</td>\n",
       "      <td>3.673077</td>\n",
       "      <td>2.019231</td>\n",
       "      <td>3.544236e+09</td>\n",
       "    </tr>\n",
       "    <tr>\n",
       "      <th>1</th>\n",
       "      <td>570.680000</td>\n",
       "      <td>642.220000</td>\n",
       "      <td>6.260000</td>\n",
       "      <td>5.300000</td>\n",
       "      <td>1.980000</td>\n",
       "      <td>1.675630e+10</td>\n",
       "    </tr>\n",
       "    <tr>\n",
       "      <th>2</th>\n",
       "      <td>118.980392</td>\n",
       "      <td>117.588235</td>\n",
       "      <td>2.754902</td>\n",
       "      <td>1.862745</td>\n",
       "      <td>1.500000</td>\n",
       "      <td>1.506754e+09</td>\n",
       "    </tr>\n",
       "  </tbody>\n",
       "</table>\n",
       "</div>"
      ],
      "text/plain": [
       "   Luas Tanah (m2)  Luas Bangunan (m2)  Jumlah Kamar  Jumlah Kamar Mandi  \\\n",
       "0       187.378205          243.814103      4.634615            3.673077   \n",
       "1       570.680000          642.220000      6.260000            5.300000   \n",
       "2       118.980392          117.588235      2.754902            1.862745   \n",
       "\n",
       "   Tingkat/Lantai   Harga Penawaran (dari Owner)  \n",
       "0         2.019231                  3.544236e+09  \n",
       "1         1.980000                  1.675630e+10  \n",
       "2         1.500000                  1.506754e+09  "
      ]
     },
     "execution_count": 21,
     "metadata": {},
     "output_type": "execute_result"
    }
   ],
   "source": [
    "df.groupby(y_pred)[\"Luas Tanah (m2)\", \"Luas Bangunan (m2)\", \"Jumlah Kamar\", \"Jumlah Kamar Mandi\", \"Tingkat/Lantai \" , \"Harga Penawaran (dari Owner)\"].agg(pd.Series.mean)"
   ]
  },
  {
   "cell_type": "code",
   "execution_count": 22,
   "metadata": {},
   "outputs": [
    {
     "data": {
      "text/plain": [
       "Cluster\n",
       "0    156\n",
       "1     50\n",
       "2    102\n",
       "Name: Cluster, dtype: int64"
      ]
     },
     "execution_count": 22,
     "metadata": {},
     "output_type": "execute_result"
    }
   ],
   "source": [
    "df.groupby(\"Cluster\")[\"Cluster\"].agg(pd.Series.count)"
   ]
  },
  {
   "cell_type": "markdown",
   "metadata": {
    "id": "OZruhWh5BSt7"
   },
   "source": [
    "## Hierarchical Clustering\n",
    "Hierarchical clustering uses the agglomerative method."
   ]
  },
  {
   "cell_type": "markdown",
   "metadata": {
    "id": "ie67vRUmJGiy"
   },
   "source": [
    "Plot the dendrogram to help determine the number of clusters, using the 'max' method."
   ]
  },
  {
   "cell_type": "code",
   "execution_count": 23,
   "metadata": {
    "colab": {
     "base_uri": "https://localhost:8080/",
     "height": 622
    },
    "executionInfo": {
     "elapsed": 4356,
     "status": "ok",
     "timestamp": 1731495958283,
     "user": {
      "displayName": "Michelle Chandra",
      "userId": "11686912257500406197"
     },
     "user_tz": -420
    },
    "id": "YYVplrU1JRLF",
    "outputId": "585815c8-249e-466f-fbb2-6c76e8f37453"
   },
   "outputs": [
    {
     "data": {
      "image/png": "[encoded data removed]",
      "text/plain": [
       "<Figure size 640x480 with 1 Axes>"
      ]
     },
     "metadata": {},
     "output_type": "display_data"
    }
   ],
   "source": [
    "from scipy.cluster.hierarchy import dendrogram, linkage\n",
    "\n",
    "plt.figure()\n",
    "plt.title(\"Dendrogram\")\n",
    "linkage_data = linkage(df1, method='complete')\n",
    "dendrogram(linkage_data)\n",
    "plt.show()"
   ]
  },
  {
   "cell_type": "markdown",
   "metadata": {
    "id": "JPMw9jAiJRsE"
   },
   "source": [
    "Perform hierarchical clustering with the Euclidean distance metric and set the number of clusters equal to the number of clusters from the K-Means model."
   ]
  },
  {
   "cell_type": "code",
   "execution_count": 24,
   "metadata": {
    "id": "-3Ep2nP0JYIw"
   },
   "outputs": [
    {
     "name": "stderr",
     "output_type": "stream",
     "text": [
      "c:\\Users\\yulia\\anaconda3\\Lib\\site-packages\\sklearn\\cluster\\_agglomerative.py:1005: FutureWarning: Attribute `affinity` was deprecated in version 1.2 and will be removed in 1.4. Use `metric` instead\n",
      "  warnings.warn(\n"
     ]
    },
    {
     "data": {
      "text/plain": [
       "array([1, 2, 0, 0, 0, 0, 2, 1, 2, 2, 2, 2, 1, 1, 1, 1, 1, 1, 1, 2, 1, 1,\n",
       "       1, 1, 2, 1, 1, 1, 0, 1, 1, 0, 1, 1, 1, 1, 0, 0, 0, 0, 0, 1, 2, 2,\n",
       "       2, 2, 2, 2, 2, 2, 2, 2, 2, 2, 2, 2, 1, 2, 1, 2, 1, 1, 1, 2, 1, 2,\n",
       "       2, 1, 1, 1, 1, 1, 1, 1, 1, 0, 0, 0, 1, 2, 1, 1, 1, 1, 1, 2, 0, 1,\n",
       "       2, 1, 1, 1, 1, 1, 2, 1, 1, 2, 1, 0, 1, 1, 1, 1, 1, 1, 1, 1, 1, 1,\n",
       "       1, 1, 1, 1, 2, 1, 1, 1, 1, 0, 1, 1, 1, 1, 1, 1, 1, 1, 1, 1, 1, 0,\n",
       "       1, 1, 1, 1, 1, 1, 1, 1, 0, 1, 1, 0, 0, 0, 0, 0, 0, 0, 0, 0, 0, 2,\n",
       "       1, 1, 1, 0, 0, 0, 0, 1, 1, 2, 2, 1, 2, 1, 1, 2, 2, 2, 0, 2, 2, 1,\n",
       "       0, 1, 1, 1, 0, 1, 2, 1, 1, 0, 0, 2, 2, 2, 0, 2, 2, 2, 1, 0, 2, 1,\n",
       "       1, 2, 1, 1, 2, 2, 1, 2, 1, 0, 0, 1, 2, 1, 0, 2, 2, 2, 0, 0, 1, 0,\n",
       "       1, 0, 1, 0, 1, 0, 0, 0, 1, 1, 1, 2, 2, 1, 2, 1, 1, 0, 1, 2, 0, 1,\n",
       "       0, 2, 2, 0, 1, 2, 0, 0, 1, 2, 1, 1, 1, 1, 1, 1, 1, 0, 1, 1, 2, 2,\n",
       "       1, 1, 1, 1, 0, 0, 0, 1, 2, 0, 1, 2, 2, 1, 1, 2, 1, 1, 1, 2, 1, 1,\n",
       "       1, 1, 0, 1, 1, 0, 1, 1, 2, 1, 1, 0, 1, 0, 2, 1, 1, 2, 1, 1, 1, 1],\n",
       "      dtype=int64)"
      ]
     },
     "execution_count": 24,
     "metadata": {},
     "output_type": "execute_result"
    }
   ],
   "source": [
    "from sklearn.cluster import AgglomerativeClustering\n",
    "model = AgglomerativeClustering(n_clusters=3, affinity='euclidean')\n",
    "label = model.fit_predict(df1)\n",
    "label"
   ]
  },
  {
   "cell_type": "code",
   "execution_count": 25,
   "metadata": {
    "colab": {
     "base_uri": "https://localhost:8080/",
     "height": 175
    },
    "executionInfo": {
     "elapsed": 352,
     "status": "ok",
     "timestamp": 1731496186125,
     "user": {
      "displayName": "Michelle Chandra",
      "userId": "11686912257500406197"
     },
     "user_tz": -420
    },
    "id": "7ZGhU79dNlXk",
    "outputId": "21e5fefc-ac85-43ba-9c01-9c9374363dfd"
   },
   "outputs": [
    {
     "name": "stderr",
     "output_type": "stream",
     "text": [
      "c:\\Users\\yulia\\anaconda3\\Lib\\site-packages\\sklearn\\cluster\\_agglomerative.py:1005: FutureWarning: Attribute `affinity` was deprecated in version 1.2 and will be removed in 1.4. Use `metric` instead\n",
      "  warnings.warn(\n"
     ]
    },
    {
     "data": {
      "text/html": [
       "<div>\n",
       "<style scoped>\n",
       "    .dataframe tbody tr th:only-of-type {\n",
       "        vertical-align: middle;\n",
       "    }\n",
       "\n",
       "    .dataframe tbody tr th {\n",
       "        vertical-align: top;\n",
       "    }\n",
       "\n",
       "    .dataframe thead th {\n",
       "        text-align: right;\n",
       "    }\n",
       "</style>\n",
       "<table border=\"1\" class=\"dataframe\">\n",
       "  <thead>\n",
       "    <tr style=\"text-align: right;\">\n",
       "      <th></th>\n",
       "      <th>Area Category</th>\n",
       "      <th>Luas Tanah (m2)</th>\n",
       "      <th>Luas Bangunan (m2)</th>\n",
       "      <th>Jumlah Kamar</th>\n",
       "      <th>Jumlah Kamar Mandi</th>\n",
       "      <th>Tingkat/Lantai</th>\n",
       "      <th>Harga Penawaran (dari Owner)</th>\n",
       "      <th>Terjual/Belum</th>\n",
       "      <th>Arah Hadap Rumah</th>\n",
       "      <th>Posisi Rumah</th>\n",
       "      <th>Lebar Jalan Depan Rumah (ROW)</th>\n",
       "      <th>Agglomerative_Cluster</th>\n",
       "    </tr>\n",
       "  </thead>\n",
       "  <tbody>\n",
       "    <tr>\n",
       "      <th>0</th>\n",
       "      <td>0.494434</td>\n",
       "      <td>0.064760</td>\n",
       "      <td>0.156529</td>\n",
       "      <td>-0.168161</td>\n",
       "      <td>-0.207847</td>\n",
       "      <td>0.313723</td>\n",
       "      <td>-0.182491</td>\n",
       "      <td>0.0</td>\n",
       "      <td>0.839497</td>\n",
       "      <td>-0.188069</td>\n",
       "      <td>-0.598758</td>\n",
       "      <td>1</td>\n",
       "    </tr>\n",
       "    <tr>\n",
       "      <th>1</th>\n",
       "      <td>1.742677</td>\n",
       "      <td>-0.977457</td>\n",
       "      <td>-0.971209</td>\n",
       "      <td>-1.386831</td>\n",
       "      <td>-1.438941</td>\n",
       "      <td>0.313723</td>\n",
       "      <td>-0.569600</td>\n",
       "      <td>0.0</td>\n",
       "      <td>0.839497</td>\n",
       "      <td>-0.188069</td>\n",
       "      <td>-2.406773</td>\n",
       "      <td>2</td>\n",
       "    </tr>\n",
       "    <tr>\n",
       "      <th>2</th>\n",
       "      <td>0.494434</td>\n",
       "      <td>-0.282646</td>\n",
       "      <td>-0.454330</td>\n",
       "      <td>0.441174</td>\n",
       "      <td>0.407700</td>\n",
       "      <td>0.313723</td>\n",
       "      <td>-0.278901</td>\n",
       "      <td>0.0</td>\n",
       "      <td>-1.141845</td>\n",
       "      <td>-5.453988</td>\n",
       "      <td>-0.598758</td>\n",
       "      <td>0</td>\n",
       "    </tr>\n",
       "    <tr>\n",
       "      <th>3</th>\n",
       "      <td>-2.002052</td>\n",
       "      <td>-0.198276</td>\n",
       "      <td>-0.078417</td>\n",
       "      <td>0.441174</td>\n",
       "      <td>1.023247</td>\n",
       "      <td>0.313723</td>\n",
       "      <td>-0.230696</td>\n",
       "      <td>0.0</td>\n",
       "      <td>0.839497</td>\n",
       "      <td>-0.188069</td>\n",
       "      <td>-0.598758</td>\n",
       "      <td>0</td>\n",
       "    </tr>\n",
       "    <tr>\n",
       "      <th>4</th>\n",
       "      <td>-0.753809</td>\n",
       "      <td>0.610683</td>\n",
       "      <td>1.566201</td>\n",
       "      <td>0.441174</td>\n",
       "      <td>1.023247</td>\n",
       "      <td>0.313723</td>\n",
       "      <td>-0.001723</td>\n",
       "      <td>0.0</td>\n",
       "      <td>-2.132516</td>\n",
       "      <td>-0.188069</td>\n",
       "      <td>-0.598758</td>\n",
       "      <td>0</td>\n",
       "    </tr>\n",
       "  </tbody>\n",
       "</table>\n",
       "</div>"
      ],
      "text/plain": [
       "   Area Category  Luas Tanah (m2)  Luas Bangunan (m2)  Jumlah Kamar  \\\n",
       "0       0.494434         0.064760            0.156529     -0.168161   \n",
       "1       1.742677        -0.977457           -0.971209     -1.386831   \n",
       "2       0.494434        -0.282646           -0.454330      0.441174   \n",
       "3      -2.002052        -0.198276           -0.078417      0.441174   \n",
       "4      -0.753809         0.610683            1.566201      0.441174   \n",
       "\n",
       "   Jumlah Kamar Mandi  Tingkat/Lantai   Harga Penawaran (dari Owner)  \\\n",
       "0           -0.207847         0.313723                     -0.182491   \n",
       "1           -1.438941         0.313723                     -0.569600   \n",
       "2            0.407700         0.313723                     -0.278901   \n",
       "3            1.023247         0.313723                     -0.230696   \n",
       "4            1.023247         0.313723                     -0.001723   \n",
       "\n",
       "   Terjual/Belum  Arah Hadap Rumah  Posisi Rumah  \\\n",
       "0            0.0          0.839497     -0.188069   \n",
       "1            0.0          0.839497     -0.188069   \n",
       "2            0.0         -1.141845     -5.453988   \n",
       "3            0.0          0.839497     -0.188069   \n",
       "4            0.0         -2.132516     -0.188069   \n",
       "\n",
       "   Lebar Jalan Depan Rumah (ROW)  Agglomerative_Cluster  \n",
       "0                      -0.598758                      1  \n",
       "1                      -2.406773                      2  \n",
       "2                      -0.598758                      0  \n",
       "3                      -0.598758                      0  \n",
       "4                      -0.598758                      0  "
      ]
     },
     "execution_count": 25,
     "metadata": {},
     "output_type": "execute_result"
    }
   ],
   "source": [
    "agglomerative_model = AgglomerativeClustering(n_clusters=best_k, affinity='euclidean', linkage='ward')\n",
    "df1['Agglomerative_Cluster'] = agglomerative_model.fit_predict(df1)\n",
    "df1.head()"
   ]
  },
  {
   "cell_type": "code",
   "execution_count": 26,
   "metadata": {},
   "outputs": [
    {
     "data": {
      "image/png": "[encoded data removed]",
      "text/plain": [
       "<Figure size 1000x700 with 1 Axes>"
      ]
     },
     "metadata": {},
     "output_type": "display_data"
    }
   ],
   "source": [
    "linked = linkage(df1, method='ward')\n",
    "\n",
    "plt.figure(figsize=(10, 7))\n",
    "dendrogram(linked, orientation='top', distance_sort='descending', show_leaf_counts=True)\n",
    "plt.title('Agglomerative Clustering Dendogram')\n",
    "plt.xlabel('Sample Index')\n",
    "plt.ylabel('Distance')\n",
    "plt.axhline(y=7, color='r', linestyle='--')  # Optional: Add a horizontal line to indicate the cut-off for clusters\n",
    "plt.show()"
   ]
  },
  {
   "cell_type": "markdown",
   "metadata": {
    "id": "lzXuHhs1JY72"
   },
   "source": [
    "Display the cluster summary in the form of a dataframe with the same criteria as the previous summary"
   ]
  },
  {
   "cell_type": "code",
   "execution_count": 27,
   "metadata": {
    "colab": {
     "base_uri": "https://localhost:8080/",
     "height": 175
    },
    "executionInfo": {
     "elapsed": 731,
     "status": "ok",
     "timestamp": 1731496187395,
     "user": {
      "displayName": "Michelle Chandra",
      "userId": "11686912257500406197"
     },
     "user_tz": -420
    },
    "id": "Dn8p_8sNNlXl",
    "outputId": "9d59e2f6-bf7e-41f0-ad22-940c3b7c48cf"
   },
   "outputs": [
    {
     "name": "stderr",
     "output_type": "stream",
     "text": [
      "C:\\Users\\yulia\\AppData\\Local\\Temp\\ipykernel_10564\\201023715.py:2: FutureWarning: Indexing with multiple keys (implicitly converted to a tuple of keys) will be deprecated, use a list instead.\n",
      "  df.groupby(y_pred)[\"Area Category\",\"Terjual/Belum\",\"Arah Hadap Rumah\", \"Posisi Rumah\", \"Lebar Jalan Depan Rumah (ROW)\"].agg(pd.Series.mode)\n"
     ]
    },
    {
     "data": {
      "text/html": [
       "<div>\n",
       "<style scoped>\n",
       "    .dataframe tbody tr th:only-of-type {\n",
       "        vertical-align: middle;\n",
       "    }\n",
       "\n",
       "    .dataframe tbody tr th {\n",
       "        vertical-align: top;\n",
       "    }\n",
       "\n",
       "    .dataframe thead th {\n",
       "        text-align: right;\n",
       "    }\n",
       "</style>\n",
       "<table border=\"1\" class=\"dataframe\">\n",
       "  <thead>\n",
       "    <tr style=\"text-align: right;\">\n",
       "      <th></th>\n",
       "      <th>Area Category</th>\n",
       "      <th>Terjual/Belum</th>\n",
       "      <th>Arah Hadap Rumah</th>\n",
       "      <th>Posisi Rumah</th>\n",
       "      <th>Lebar Jalan Depan Rumah (ROW)</th>\n",
       "    </tr>\n",
       "  </thead>\n",
       "  <tbody>\n",
       "    <tr>\n",
       "      <th>0</th>\n",
       "      <td>2</td>\n",
       "      <td>1</td>\n",
       "      <td>3</td>\n",
       "      <td>2</td>\n",
       "      <td>2</td>\n",
       "    </tr>\n",
       "    <tr>\n",
       "      <th>1</th>\n",
       "      <td>1</td>\n",
       "      <td>1</td>\n",
       "      <td>3</td>\n",
       "      <td>2</td>\n",
       "      <td>3</td>\n",
       "    </tr>\n",
       "    <tr>\n",
       "      <th>2</th>\n",
       "      <td>3</td>\n",
       "      <td>1</td>\n",
       "      <td>3</td>\n",
       "      <td>2</td>\n",
       "      <td>2</td>\n",
       "    </tr>\n",
       "  </tbody>\n",
       "</table>\n",
       "</div>"
      ],
      "text/plain": [
       "   Area Category  Terjual/Belum  Arah Hadap Rumah  Posisi Rumah  \\\n",
       "0              2              1                 3             2   \n",
       "1              1              1                 3             2   \n",
       "2              3              1                 3             2   \n",
       "\n",
       "   Lebar Jalan Depan Rumah (ROW)  \n",
       "0                              2  \n",
       "1                              3  \n",
       "2                              2  "
      ]
     },
     "execution_count": 27,
     "metadata": {},
     "output_type": "execute_result"
    }
   ],
   "source": [
    "df1[\"Agglo\"] = label\n",
    "df.groupby(y_pred)[\"Area Category\",\"Terjual/Belum\",\"Arah Hadap Rumah\", \"Posisi Rumah\", \"Lebar Jalan Depan Rumah (ROW)\"].agg(pd.Series.mode)"
   ]
  },
  {
   "cell_type": "code",
   "execution_count": 28,
   "metadata": {
    "colab": {
     "base_uri": "https://localhost:8080/",
     "height": 210
    },
    "executionInfo": {
     "elapsed": 3,
     "status": "ok",
     "timestamp": 1731496187790,
     "user": {
      "displayName": "Michelle Chandra",
      "userId": "11686912257500406197"
     },
     "user_tz": -420
    },
    "id": "41xVNZP4IJIj",
    "outputId": "415aad8a-9fee-40ec-c4a4-cc909a413bdf"
   },
   "outputs": [
    {
     "name": "stderr",
     "output_type": "stream",
     "text": [
      "C:\\Users\\yulia\\AppData\\Local\\Temp\\ipykernel_10564\\1379623355.py:1: FutureWarning: Indexing with multiple keys (implicitly converted to a tuple of keys) will be deprecated, use a list instead.\n",
      "  df.groupby(label)[\"Luas Tanah (m2)\", \"Luas Bangunan (m2)\", \"Jumlah Kamar\", \"Jumlah Kamar Mandi\", \"Tingkat/Lantai \" , \"Harga Penawaran (dari Owner)\"].agg(pd.Series.mean)\n"
     ]
    },
    {
     "data": {
      "text/html": [
       "<div>\n",
       "<style scoped>\n",
       "    .dataframe tbody tr th:only-of-type {\n",
       "        vertical-align: middle;\n",
       "    }\n",
       "\n",
       "    .dataframe tbody tr th {\n",
       "        vertical-align: top;\n",
       "    }\n",
       "\n",
       "    .dataframe thead th {\n",
       "        text-align: right;\n",
       "    }\n",
       "</style>\n",
       "<table border=\"1\" class=\"dataframe\">\n",
       "  <thead>\n",
       "    <tr style=\"text-align: right;\">\n",
       "      <th></th>\n",
       "      <th>Luas Tanah (m2)</th>\n",
       "      <th>Luas Bangunan (m2)</th>\n",
       "      <th>Jumlah Kamar</th>\n",
       "      <th>Jumlah Kamar Mandi</th>\n",
       "      <th>Tingkat/Lantai</th>\n",
       "      <th>Harga Penawaran (dari Owner)</th>\n",
       "    </tr>\n",
       "  </thead>\n",
       "  <tbody>\n",
       "    <tr>\n",
       "      <th>0</th>\n",
       "      <td>511.848485</td>\n",
       "      <td>572.484848</td>\n",
       "      <td>6.030303</td>\n",
       "      <td>4.909091</td>\n",
       "      <td>1.954545</td>\n",
       "      <td>1.383303e+10</td>\n",
       "    </tr>\n",
       "    <tr>\n",
       "      <th>1</th>\n",
       "      <td>163.090361</td>\n",
       "      <td>218.156627</td>\n",
       "      <td>4.301205</td>\n",
       "      <td>3.451807</td>\n",
       "      <td>2.048193</td>\n",
       "      <td>3.094804e+09</td>\n",
       "    </tr>\n",
       "    <tr>\n",
       "      <th>2</th>\n",
       "      <td>119.026316</td>\n",
       "      <td>107.131579</td>\n",
       "      <td>2.697368</td>\n",
       "      <td>1.723684</td>\n",
       "      <td>1.289474</td>\n",
       "      <td>1.548517e+09</td>\n",
       "    </tr>\n",
       "  </tbody>\n",
       "</table>\n",
       "</div>"
      ],
      "text/plain": [
       "   Luas Tanah (m2)  Luas Bangunan (m2)  Jumlah Kamar  Jumlah Kamar Mandi  \\\n",
       "0       511.848485          572.484848      6.030303            4.909091   \n",
       "1       163.090361          218.156627      4.301205            3.451807   \n",
       "2       119.026316          107.131579      2.697368            1.723684   \n",
       "\n",
       "   Tingkat/Lantai   Harga Penawaran (dari Owner)  \n",
       "0         1.954545                  1.383303e+10  \n",
       "1         2.048193                  3.094804e+09  \n",
       "2         1.289474                  1.548517e+09  "
      ]
     },
     "execution_count": 28,
     "metadata": {},
     "output_type": "execute_result"
    }
   ],
   "source": [
    "df.groupby(label)[\"Luas Tanah (m2)\", \"Luas Bangunan (m2)\", \"Jumlah Kamar\", \"Jumlah Kamar Mandi\", \"Tingkat/Lantai \" , \"Harga Penawaran (dari Owner)\"].agg(pd.Series.mean)"
   ]
  },
  {
   "cell_type": "code",
   "execution_count": 29,
   "metadata": {},
   "outputs": [
    {
     "data": {
      "text/plain": [
       "0     66\n",
       "1    166\n",
       "2     76\n",
       "Name: Agglo, dtype: int64"
      ]
     },
     "execution_count": 29,
     "metadata": {},
     "output_type": "execute_result"
    }
   ],
   "source": [
    "df1.groupby(label)[\"Agglo\"].agg(pd.Series.count)"
   ]
  },
  {
   "cell_type": "markdown",
   "metadata": {
    "id": "wU9hSggw_oQ1"
   },
   "source": [
    "**Hierarchical Visualization**"
   ]
  },
  {
   "cell_type": "markdown",
   "metadata": {
    "id": "6qpiPUi_qV19"
   },
   "source": [
    "Single Linkage"
   ]
  },
  {
   "cell_type": "code",
   "execution_count": 30,
   "metadata": {
    "colab": {
     "base_uri": "https://localhost:8080/",
     "height": 641
    },
    "executionInfo": {
     "elapsed": 4604,
     "status": "ok",
     "timestamp": 1731496240868,
     "user": {
      "displayName": "Michelle Chandra",
      "userId": "11686912257500406197"
     },
     "user_tz": -420
    },
    "id": "2r064c_9qLU9",
    "outputId": "d38fc84f-d1bc-405d-c0ff-1151dab5e7fa"
   },
   "outputs": [
    {
     "data": {
      "image/png": "[encoded data removed]",
      "text/plain": [
       "<Figure size 1000x700 with 1 Axes>"
      ]
     },
     "metadata": {},
     "output_type": "display_data"
    }
   ],
   "source": [
    "# example\n",
    "import scipy.cluster.hierarchy as hie\n",
    "\n",
    "plt.figure(figsize=(10,7))\n",
    "plt.title(\"Customer Hierarchical Clustering with MIN Method\", pad=20)\n",
    "dendro = hie.dendrogram(hie.linkage(df1, method=\"single\"))"
   ]
  },
  {
   "cell_type": "markdown",
   "metadata": {
    "id": "NLXusmjnqiKs"
   },
   "source": [
    "complete linkage"
   ]
  },
  {
   "cell_type": "code",
   "execution_count": 31,
   "metadata": {
    "colab": {
     "base_uri": "https://localhost:8080/",
     "height": 641
    },
    "executionInfo": {
     "elapsed": 3890,
     "status": "ok",
     "timestamp": 1731496244755,
     "user": {
      "displayName": "Michelle Chandra",
      "userId": "11686912257500406197"
     },
     "user_tz": -420
    },
    "id": "nY9cZ22PqmDv",
    "outputId": "df739661-5ab2-4742-8b40-52f05af73242"
   },
   "outputs": [
    {
     "data": {
      "image/png": "[encoded data removed]",
      "text/plain": [
       "<Figure size 1000x700 with 1 Axes>"
      ]
     },
     "metadata": {},
     "output_type": "display_data"
    }
   ],
   "source": [
    "# example\n",
    "import scipy.cluster.hierarchy as hie\n",
    "\n",
    "plt.figure(figsize=(10,7))\n",
    "plt.title(\"Customer Hierarchical Clustering with MAX Method\", pad=20)\n",
    "dendro = hie.dendrogram(hie.linkage(df1, method=\"complete\"))"
   ]
  },
  {
   "cell_type": "markdown",
   "metadata": {
    "id": "KTzdIUgBqxlv"
   },
   "source": [
    "average linkage"
   ]
  },
  {
   "cell_type": "code",
   "execution_count": 32,
   "metadata": {
    "colab": {
     "base_uri": "https://localhost:8080/",
     "height": 641
    },
    "executionInfo": {
     "elapsed": 5256,
     "status": "ok",
     "timestamp": 1731496252054,
     "user": {
      "displayName": "Michelle Chandra",
      "userId": "11686912257500406197"
     },
     "user_tz": -420
    },
    "id": "SDVKBXKxq12g",
    "outputId": "5312efd0-9963-4f6c-b465-cdcc4f73e17b"
   },
   "outputs": [
    {
     "data": {
      "image/png": "[encoded data removed]",
      "text/plain": [
       "<Figure size 1000x700 with 1 Axes>"
      ]
     },
     "metadata": {},
     "output_type": "display_data"
    }
   ],
   "source": [
    "# example\n",
    "import scipy.cluster.hierarchy as hie\n",
    "\n",
    "plt.figure(figsize=(10,7))\n",
    "plt.title(\"Customer Hierarchical Clustering with AVERAGE Method\", pad=20)\n",
    "dendro = hie.dendrogram(hie.linkage(df1, method=\"average\"))"
   ]
  },
  {
   "cell_type": "markdown",
   "metadata": {
    "id": "Dh9oOv59q9E5"
   },
   "source": [
    "ward linkage"
   ]
  },
  {
   "cell_type": "code",
   "execution_count": 33,
   "metadata": {
    "colab": {
     "base_uri": "https://localhost:8080/",
     "height": 641
    },
    "executionInfo": {
     "elapsed": 5098,
     "status": "ok",
     "timestamp": 1731496257150,
     "user": {
      "displayName": "Michelle Chandra",
      "userId": "11686912257500406197"
     },
     "user_tz": -420
    },
    "id": "6315xN-arAp9",
    "outputId": "aa3ee2c4-dc56-4b7d-faca-571c5f5cd858"
   },
   "outputs": [
    {
     "data": {
      "image/png": "[encoded data removed]",
      "text/plain": [
       "<Figure size 1000x700 with 1 Axes>"
      ]
     },
     "metadata": {},
     "output_type": "display_data"
    }
   ],
   "source": [
    "# example\n",
    "import scipy.cluster.hierarchy as hie\n",
    "\n",
    "plt.figure(figsize=(10,7))\n",
    "plt.title(\"Customer Hierarchical Clustering with WARD Method\", pad=20)\n",
    "dendro = hie.dendrogram(hie.linkage(df1, method=\"ward\"))"
   ]
  }
 ],
 "metadata": {
  "colab": {
   "authorship_tag": "ABX9TyMqb/ZBky+UGltak2iYKBGD",
   "provenance": []
  },
  "kernelspec": {
   "display_name": "base",
   "language": "python",
   "name": "python3"
  },
  "language_info": {
   "codemirror_mode": {
    "name": "ipython",
    "version": 3
   },
   "file_extension": ".py",
   "mimetype": "text/x-python",
   "name": "python",
   "nbconvert_exporter": "python",
   "pygments_lexer": "ipython3",
   "version": "3.11.4"
  }
 },
 "nbformat": 4,
 "nbformat_minor": 0
}
